{
 "cells": [
  {
   "cell_type": "markdown",
   "id": "84c62fc8",
   "metadata": {},
   "source": [
    "### Shaping and Re-Shaping Arrays"
   ]
  },
  {
   "cell_type": "code",
   "execution_count": 1,
   "id": "c23e4108",
   "metadata": {},
   "outputs": [],
   "source": [
    "import pandas as pd\n",
    "import numpy as np"
   ]
  },
  {
   "cell_type": "code",
   "execution_count": 6,
   "id": "dc67c3f8",
   "metadata": {},
   "outputs": [
    {
     "data": {
      "text/plain": [
       "array([[1, 2, 3, 4],\n",
       "       [1, 2, 3, 4]])"
      ]
     },
     "execution_count": 6,
     "metadata": {},
     "output_type": "execute_result"
    }
   ],
   "source": [
    "data = np.array(object = [[1,2,3,4], [1,2,3,4]])\n",
    "data"
   ]
  },
  {
   "cell_type": "code",
   "execution_count": 7,
   "id": "a47575fb",
   "metadata": {},
   "outputs": [
    {
     "name": "stdout",
     "output_type": "stream",
     "text": [
      "(2, 4)\n"
     ]
    }
   ],
   "source": [
    "print(data.shape)"
   ]
  },
  {
   "cell_type": "code",
   "execution_count": 11,
   "id": "6ee60a28",
   "metadata": {},
   "outputs": [
    {
     "data": {
      "text/plain": [
       "4"
      ]
     },
     "execution_count": 11,
     "metadata": {},
     "output_type": "execute_result"
    }
   ],
   "source": [
    "new_data = np.array([1,2,3,4], ndmin = 4)\n",
    "new_data.ndim"
   ]
  },
  {
   "cell_type": "code",
   "execution_count": 12,
   "id": "1367b97d",
   "metadata": {},
   "outputs": [
    {
     "data": {
      "text/plain": [
       "(1, 1, 1, 4)"
      ]
     },
     "execution_count": 12,
     "metadata": {},
     "output_type": "execute_result"
    }
   ],
   "source": [
    "new_data.shape"
   ]
  },
  {
   "cell_type": "code",
   "execution_count": 14,
   "id": "a43917cd",
   "metadata": {},
   "outputs": [
    {
     "data": {
      "text/plain": [
       "array([[[[1, 2, 3, 4]]]])"
      ]
     },
     "execution_count": 14,
     "metadata": {},
     "output_type": "execute_result"
    }
   ],
   "source": [
    "\"\"\"The outermost array has just one row. The next array also has just one row. The last but one \n",
    "array also has just one row. Finally, the last array has 4 columns. Hence, the previous output.\"\"\"\n",
    "new_data"
   ]
  },
  {
   "cell_type": "code",
   "execution_count": 15,
   "id": "e61815f3",
   "metadata": {},
   "outputs": [],
   "source": [
    "\"\"\"Reshaping Arrays\"\"\"\n",
    "arr = np.array(object = [1,2,3,4,5,6])"
   ]
  },
  {
   "cell_type": "code",
   "execution_count": 21,
   "id": "20795eb8",
   "metadata": {},
   "outputs": [
    {
     "name": "stdout",
     "output_type": "stream",
     "text": [
      "[[1 2]\n",
      " [3 4]\n",
      " [5 6]]\n",
      "2\n"
     ]
    }
   ],
   "source": [
    "reshaped_arr = arr.reshape(3, 2)\n",
    "# Arguments to the reshape method are, number of rows followed by number of elements in each row\n",
    "print(reshaped_arr)\n",
    "print(reshaped_arr.ndim)"
   ]
  },
  {
   "cell_type": "code",
   "execution_count": 29,
   "id": "cfe5b698",
   "metadata": {},
   "outputs": [
    {
     "name": "stdout",
     "output_type": "stream",
     "text": [
      "[0 1 2 3 4 5 6 7 8] (9,) \n",
      "\n",
      "[[0 1 2]\n",
      " [3 4 5]\n",
      " [6 7 8]] (3, 3)\n"
     ]
    }
   ],
   "source": [
    "numbers = np.array(object = [x for x in range(9)])\n",
    "print(numbers, numbers.shape, \"\\n\")\n",
    "\n",
    "reshaped_numbers = numbers.reshape((3,3))\n",
    "print(reshaped_numbers, reshaped_numbers.shape)"
   ]
  },
  {
   "cell_type": "code",
   "execution_count": 32,
   "id": "27e8b257",
   "metadata": {},
   "outputs": [
    {
     "name": "stdout",
     "output_type": "stream",
     "text": [
      "[ 0  1  2  3  4  5  6  7  8  9 10 11] (12,)\n",
      "[[[ 0  1]\n",
      "  [ 2  3]\n",
      "  [ 4  5]]\n",
      "\n",
      " [[ 6  7]\n",
      "  [ 8  9]\n",
      "  [10 11]]] (2, 3, 2)\n"
     ]
    }
   ],
   "source": [
    "numbers = np.array(object = [x for x in range(12)])\n",
    "print(numbers, numbers.shape)\n",
    "\n",
    "\"\"\"Here, we're reshaping the 1D array into a 3D array with dimensions (2, 3, 2). The reshape function allows us to rearrange \n",
    "the data into a new shape without changing the original data itself.\n",
    "\n",
    "The original array had 12 elements.\n",
    "The new shape (2, 3, 2) means:\n",
    "2 blocks (the first dimension).\n",
    "Each block has 3 rows (the second dimension).\n",
    "Each row has 2 elements (the third dimension).\"\"\"\n",
    "\n",
    "reshaped_numbers = numbers.reshape(2,3,2)\n",
    "print(reshaped_numbers, reshaped_numbers.shape)"
   ]
  },
  {
   "cell_type": "code",
   "execution_count": 40,
   "id": "689ca468",
   "metadata": {},
   "outputs": [
    {
     "data": {
      "text/plain": [
       "array([[[ 0]],\n",
       "\n",
       "       [[ 1]],\n",
       "\n",
       "       [[ 2]],\n",
       "\n",
       "       [[ 3]],\n",
       "\n",
       "       [[ 4]],\n",
       "\n",
       "       [[ 5]],\n",
       "\n",
       "       [[ 6]],\n",
       "\n",
       "       [[ 7]],\n",
       "\n",
       "       [[ 8]],\n",
       "\n",
       "       [[ 9]],\n",
       "\n",
       "       [[10]],\n",
       "\n",
       "       [[11]]])"
      ]
     },
     "execution_count": 40,
     "metadata": {},
     "output_type": "execute_result"
    }
   ],
   "source": [
    "numbers.reshape(4,3,1)\n",
    "numbers.reshape(6,2,1)\n",
    "numbers.reshape(12,1,1)"
   ]
  },
  {
   "cell_type": "code",
   "execution_count": 43,
   "id": "8c1991a8",
   "metadata": {},
   "outputs": [
    {
     "data": {
      "text/plain": [
       "(12,)"
      ]
     },
     "execution_count": 43,
     "metadata": {},
     "output_type": "execute_result"
    }
   ],
   "source": [
    "reshaped_numbers.reshape(-1) # -1 is used to reshape the multi-dimensional array to 1-dimensional array\n",
    "reshaped_numbers.reshape(-1).ndim\n",
    "reshaped_numbers.reshape(-1).shape"
   ]
  },
  {
   "cell_type": "code",
   "execution_count": null,
   "id": "b461a1cb",
   "metadata": {},
   "outputs": [],
   "source": []
  }
 ],
 "metadata": {
  "kernelspec": {
   "display_name": "Python 3 (ipykernel)",
   "language": "python",
   "name": "python3"
  },
  "language_info": {
   "codemirror_mode": {
    "name": "ipython",
    "version": 3
   },
   "file_extension": ".py",
   "mimetype": "text/x-python",
   "name": "python",
   "nbconvert_exporter": "python",
   "pygments_lexer": "ipython3",
   "version": "3.9.13"
  }
 },
 "nbformat": 4,
 "nbformat_minor": 5
}
