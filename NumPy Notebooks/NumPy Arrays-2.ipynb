{
 "cells": [
  {
   "cell_type": "markdown",
   "id": "bb7c39ee",
   "metadata": {},
   "source": [
    "### Data Types in NumPy"
   ]
  },
  {
   "cell_type": "code",
   "execution_count": 1,
   "id": "fc730b84",
   "metadata": {},
   "outputs": [],
   "source": [
    "import pandas as pd\n",
    "import numpy as np"
   ]
  },
  {
   "cell_type": "code",
   "execution_count": 2,
   "id": "67e13a81",
   "metadata": {},
   "outputs": [
    {
     "data": {
      "text/plain": [
       "array([1, 2, 3, 4, 5])"
      ]
     },
     "execution_count": 2,
     "metadata": {},
     "output_type": "execute_result"
    }
   ],
   "source": [
    "arr = np.array(object = [1,2,3,4,5])\n",
    "arr"
   ]
  },
  {
   "cell_type": "code",
   "execution_count": 3,
   "id": "a275bac2",
   "metadata": {},
   "outputs": [
    {
     "name": "stdout",
     "output_type": "stream",
     "text": [
      "Data Type of the variable is int32\n"
     ]
    }
   ],
   "source": [
    "print(f\"Data Type of the variable is {arr.dtype}\")"
   ]
  },
  {
   "cell_type": "code",
   "execution_count": 4,
   "id": "9e87246b",
   "metadata": {},
   "outputs": [
    {
     "name": "stdout",
     "output_type": "stream",
     "text": [
      "Data Type of the variable is float64\n"
     ]
    }
   ],
   "source": [
    "arr = np.array(object = [1.2,2.4,3.5,4.6,5.7])\n",
    "print(f\"Data Type of the variable is {arr.dtype}\")"
   ]
  },
  {
   "cell_type": "code",
   "execution_count": 5,
   "id": "53047507",
   "metadata": {},
   "outputs": [
    {
     "name": "stdout",
     "output_type": "stream",
     "text": [
      "Data Type of the variable is <U1\n"
     ]
    }
   ],
   "source": [
    "arr = np.array(object = [\"s\", \"a\", \"b\", \"c\"])\n",
    "print(f\"Data Type of the variable is {arr.dtype}\")"
   ]
  },
  {
   "cell_type": "code",
   "execution_count": 6,
   "id": "f05b66ac",
   "metadata": {},
   "outputs": [
    {
     "name": "stdout",
     "output_type": "stream",
     "text": [
      "Data Type of the variable is <U11\n"
     ]
    }
   ],
   "source": [
    "arr = np.array(object = [\"s\", \"a\", \"b\", \"c\", 1,2,3])\n",
    "print(f\"Data Type of the variable is {arr.dtype}\")"
   ]
  },
  {
   "cell_type": "code",
   "execution_count": 7,
   "id": "f276207d",
   "metadata": {},
   "outputs": [
    {
     "name": "stdout",
     "output_type": "stream",
     "text": [
      "int32\n",
      "int8\n",
      "[1. 2. 3. 4.] float32\n",
      "['1' '2' '3' '4'] <U1\n"
     ]
    }
   ],
   "source": [
    "\"\"\"Converting a variable to another data type\"\"\"\n",
    "x = np.array([1,2,3,4],)\n",
    "print(x.dtype)\n",
    "\n",
    "x = np.array([1,2,3,4],  dtype = np.int8)\n",
    "print(x.dtype)\n",
    "\n",
    "x = np.array([1,2,3,4],  dtype = np.float32)\n",
    "print(x, x.dtype)\n",
    "\n",
    "x = np.array([1,2,3,4],  dtype = np.str_)\n",
    "print(x, x.dtype)"
   ]
  },
  {
   "cell_type": "code",
   "execution_count": 8,
   "id": "7446bcfc",
   "metadata": {},
   "outputs": [
    {
     "name": "stdout",
     "output_type": "stream",
     "text": [
      "[0 1 2 3 4] int32\n",
      "[0. 1. 2. 3. 4.] float32\n",
      "[False  True  True  True  True] bool\n"
     ]
    }
   ],
   "source": [
    "int_array = np.array(object = [0,1,2,3,4])\n",
    "print(int_array, int_array.dtype)\n",
    "\n",
    "\"\"\"Instead of specifying the dtype parameter, NumPy can be used as a function to change the \n",
    "data-type of a variable.\"\"\"\n",
    "\n",
    "float_array = np.float32(int_array)\n",
    "print(float_array, float_array.dtype)\n",
    "\n",
    "bool_array = np.bool_(int_array)\n",
    "print(bool_array, bool_array.dtype)"
   ]
  },
  {
   "cell_type": "code",
   "execution_count": 9,
   "id": "b96d0e19",
   "metadata": {},
   "outputs": [
    {
     "name": "stdout",
     "output_type": "stream",
     "text": [
      "[1 2 3 4 5]\n",
      "[1. 2. 3. 4. 5.]\n"
     ]
    }
   ],
   "source": [
    "\"\"\"Using astype to convert the data types of variables\"\"\"\n",
    "integers = np.array(object = [1,2,3,4,5])\n",
    "floats = integers.astype('float')\n",
    "print(integers)\n",
    "print(floats)"
   ]
  },
  {
   "cell_type": "code",
   "execution_count": null,
   "id": "1154d30a",
   "metadata": {},
   "outputs": [],
   "source": []
  },
  {
   "cell_type": "markdown",
   "id": "607af088",
   "metadata": {},
   "source": [
    "### Arithmetic Operations on Array"
   ]
  },
  {
   "cell_type": "code",
   "execution_count": 10,
   "id": "f74ed97e",
   "metadata": {},
   "outputs": [
    {
     "name": "stdout",
     "output_type": "stream",
     "text": [
      "[4 5 6 7]\n",
      "[-2 -1  0  1]\n",
      "[ 3  6  9 12]\n",
      "[0.33333333 0.66666667 1.         1.33333333]\n"
     ]
    }
   ],
   "source": [
    "arr = np.array([1,2,3,4])\n",
    "print(arr + 3)\n",
    "print(arr - 3)\n",
    "print(arr * 3)\n",
    "print(arr / 3)"
   ]
  },
  {
   "cell_type": "code",
   "execution_count": 11,
   "id": "461fa2ad",
   "metadata": {},
   "outputs": [
    {
     "name": "stdout",
     "output_type": "stream",
     "text": [
      "Addition \n",
      "[2 4 6 8]\n",
      "\n",
      "Subtraction \n",
      "[0 0 0 0]\n",
      "\n",
      "Multiplication \n",
      "[ 1  4  9 16]\n",
      "\n",
      "Division \n",
      "[1. 1. 1. 1.]\n",
      "\n",
      "Modulus \n",
      "[0 0 0 0]\n",
      "\n",
      "Division and Modulus \n",
      "(array([1, 1, 1, 1]), array([0, 0, 0, 0]))\n",
      "\n",
      "Reciprocal \n",
      "[1.         0.5        0.33333333 0.25      ]\n",
      "\n",
      "Power \n",
      "[ 1  4  9 16]\n"
     ]
    }
   ],
   "source": [
    "\"\"\"Arithmetic Operations on One Dimensional Arrays\"\"\"\n",
    "first = np.array([1,2,3,4])\n",
    "second = np.array([1,2,3,4])\n",
    "\n",
    "print(f\"Addition \\n{np.add(first, second)}\\n\")\n",
    "print(f\"Subtraction \\n{np.subtract(first, second)}\\n\")\n",
    "print(f\"Multiplication \\n{np.multiply(first, second)}\\n\")\n",
    "print(f\"Division \\n{np.divide(first, second)}\\n\")\n",
    "print(f\"Modulus \\n{np.mod(first, second)}\\n\")\n",
    "print(f\"Division and Modulus \\n{np.divmod(first, second)}\\n\")\n",
    "print(f\"Reciprocal \\n{(np.reciprocal(first, dtype = float))}\\n\")\n",
    "print(f\"Power \\n{np.power(first, 2)}\")"
   ]
  },
  {
   "cell_type": "code",
   "execution_count": 12,
   "id": "67ec6a87",
   "metadata": {},
   "outputs": [
    {
     "name": "stdout",
     "output_type": "stream",
     "text": [
      "Addition \n",
      " [[ 2  4  6  8]\n",
      " [10 12 14 16]]\n",
      "\n",
      "Subtraction \n",
      " [[0 0 0 0]\n",
      " [0 0 0 0]]\n",
      "\n",
      "Multiplication \n",
      " [[ 1  4  9 16]\n",
      " [25 36 49 64]]\n",
      "\n",
      "Division \n",
      " [[1. 1. 1. 1.]\n",
      " [1. 1. 1. 1.]]\n",
      "\n",
      "Modulus \n",
      " [[0 0 0 0]\n",
      " [0 0 0 0]]\n",
      "\n",
      "Division and Modulus \n",
      "(array([[1, 1, 1, 1],\n",
      "       [1, 1, 1, 1]]), array([[0, 0, 0, 0],\n",
      "       [0, 0, 0, 0]]))\n",
      "\n",
      "Reciprocal \n",
      "[[1.         0.5        0.33333333 0.25      ]\n",
      " [0.2        0.16666667 0.14285714 0.125     ]]\n",
      "\n",
      "Power \n",
      "[[ 1  4  9 16]\n",
      " [25 36 49 64]]\n"
     ]
    }
   ],
   "source": [
    "\"\"\"Arithmetic Operations on Two Dimensional Arrays\"\"\"\n",
    "first_arr = [[1,2,3,4], [5,6,7,8]]\n",
    "second_arr = [[1,2,3,4], [5,6,7,8]]\n",
    "\n",
    "print(f\"Addition \\n {np.add(first_arr, second_arr)}\\n\") \n",
    "print(f\"Subtraction \\n {np.subtract(first_arr, second_arr)}\\n\") \n",
    "print(f\"Multiplication \\n {np.multiply(first_arr, second_arr)}\\n\") \n",
    "print(f\"Division \\n {np.divide(first_arr, second_arr)}\\n\") \n",
    "print(f\"Modulus \\n {np.mod(first_arr, second_arr)}\\n\") \n",
    "print(f\"Division and Modulus \\n{np.divmod(first_arr, second_arr)}\\n\") \n",
    "print(f\"Reciprocal \\n{(np.reciprocal(first_arr, dtype = float))}\\n\") \n",
    "print(f\"Power \\n{np.power(first_arr, 2)}\")"
   ]
  },
  {
   "cell_type": "code",
   "execution_count": null,
   "id": "6b44237d",
   "metadata": {},
   "outputs": [],
   "source": []
  },
  {
   "cell_type": "code",
   "execution_count": null,
   "id": "8160b343",
   "metadata": {},
   "outputs": [],
   "source": []
  }
 ],
 "metadata": {
  "kernelspec": {
   "display_name": "Python 3 (ipykernel)",
   "language": "python",
   "name": "python3"
  },
  "language_info": {
   "codemirror_mode": {
    "name": "ipython",
    "version": 3
   },
   "file_extension": ".py",
   "mimetype": "text/x-python",
   "name": "python",
   "nbconvert_exporter": "python",
   "pygments_lexer": "ipython3",
   "version": "3.9.13"
  }
 },
 "nbformat": 4,
 "nbformat_minor": 5
}
