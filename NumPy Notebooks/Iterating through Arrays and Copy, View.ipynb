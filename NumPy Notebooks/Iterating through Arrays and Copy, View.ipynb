{
 "cells": [
  {
   "cell_type": "markdown",
   "id": "0ed67f12",
   "metadata": {},
   "source": [
    "### Iterating through Arrays in NumPy"
   ]
  },
  {
   "cell_type": "code",
   "execution_count": 2,
   "id": "1c463bb1",
   "metadata": {},
   "outputs": [],
   "source": [
    "import pandas as pd\n",
    "import numpy as np"
   ]
  },
  {
   "cell_type": "code",
   "execution_count": 6,
   "id": "011dc699",
   "metadata": {},
   "outputs": [
    {
     "data": {
      "text/plain": [
       "array([0, 1, 2, 3, 4, 5, 6, 7, 8, 9])"
      ]
     },
     "execution_count": 6,
     "metadata": {},
     "output_type": "execute_result"
    }
   ],
   "source": [
    "one_dimensional_array = np.array([x for x in range(10)])\n",
    "one_dimensional_array"
   ]
  },
  {
   "cell_type": "code",
   "execution_count": 12,
   "id": "d52180e6",
   "metadata": {},
   "outputs": [
    {
     "name": "stdout",
     "output_type": "stream",
     "text": [
      "0 1 2 3 4 5 6 7 8 9 \n",
      "0 1 2 3 4 5 6 7 8 9 "
     ]
    }
   ],
   "source": [
    "for item in one_dimensional_array:\n",
    "    print(item, end = \" \")\n",
    "\n",
    "print(\"\")\n",
    "\n",
    "for index in range(one_dimensional_array.shape[0]):\n",
    "    print(one_dimensional_array[index], end = \" \")"
   ]
  },
  {
   "cell_type": "code",
   "execution_count": 13,
   "id": "5538f9c7",
   "metadata": {},
   "outputs": [
    {
     "data": {
      "text/plain": [
       "array([[1, 2],\n",
       "       [3, 4]])"
      ]
     },
     "execution_count": 13,
     "metadata": {},
     "output_type": "execute_result"
    }
   ],
   "source": [
    "two_dimensional_array = np.array([\n",
    "    [1,2], \n",
    "    [3,4]\n",
    "])\n",
    "two_dimensional_array"
   ]
  },
  {
   "cell_type": "code",
   "execution_count": 18,
   "id": "2b49832a",
   "metadata": {},
   "outputs": [
    {
     "name": "stdout",
     "output_type": "stream",
     "text": [
      "[1 2]\n",
      "[3 4]\n",
      "\n",
      "1 2 3 4 \n",
      "\n",
      "1 2 3 4 "
     ]
    }
   ],
   "source": [
    "for item in two_dimensional_array:\n",
    "    print(item)\n",
    "\n",
    "print(\"\")\n",
    "\n",
    "for outer_index in range(two_dimensional_array.shape[0]):\n",
    "    for inner_index in range(two_dimensional_array.shape[1]):\n",
    "        print(two_dimensional_array[outer_index, inner_index], end = \" \")\n",
    "    \n",
    "print(\"\\n\")\n",
    "\n",
    "for row in two_dimensional_array:\n",
    "    for item in row:\n",
    "        print(item, end = \" \")"
   ]
  },
  {
   "cell_type": "code",
   "execution_count": 23,
   "id": "4514f6f8",
   "metadata": {},
   "outputs": [
    {
     "data": {
      "text/plain": [
       "array([[[1, 2, 3],\n",
       "        [4, 5, 6]],\n",
       "\n",
       "       [[1, 2, 3],\n",
       "        [4, 5, 6]]])"
      ]
     },
     "execution_count": 23,
     "metadata": {},
     "output_type": "execute_result"
    }
   ],
   "source": [
    "three_dimensional_array = np.array([\n",
    "    [\n",
    "        [1,2,3], \n",
    "        [4,5,6]\n",
    "    ], \n",
    "    [\n",
    "        [1,2,3], \n",
    "        [4,5,6]\n",
    "    ]\n",
    "])\n",
    "three_dimensional_array"
   ]
  },
  {
   "cell_type": "code",
   "execution_count": 31,
   "id": "f234afb3",
   "metadata": {},
   "outputs": [
    {
     "name": "stdout",
     "output_type": "stream",
     "text": [
      "1 2 3 4 5 6 \n",
      "1 2 3 4 5 6 \n",
      "\n",
      "1 2 3 \n",
      "4 5 6 \n",
      "1 2 3 \n",
      "4 5 6 \n"
     ]
    }
   ],
   "source": [
    "for block in three_dimensional_array:\n",
    "    for row in block:\n",
    "        for value in row:\n",
    "            print(value, end = \" \")\n",
    "    print(\"\")\n",
    "\n",
    "print(\"\")\n",
    "    \n",
    "for block_index in range(three_dimensional_array.shape[0]):\n",
    "    for row_index in range(three_dimensional_array.shape[1]):\n",
    "        for column_index in range(three_dimensional_array.shape[2]):\n",
    "            print(three_dimensional_array[block_index, row_index, column_index], end = \" \")\n",
    "        print(\"\")"
   ]
  },
  {
   "cell_type": "code",
   "execution_count": 33,
   "id": "300dd55a",
   "metadata": {},
   "outputs": [
    {
     "name": "stdout",
     "output_type": "stream",
     "text": [
      "1 2 3 4 5 6 1 2 3 4 5 6 "
     ]
    }
   ],
   "source": [
    "\"\"\"Instead of using multiple for loops for multi-dimensional data, we can use the inbuilt nditer function \n",
    "to access all the values present in the array\"\"\"\n",
    "for item in np.nditer(three_dimensional_array):\n",
    "    print(item, end = \" \")"
   ]
  },
  {
   "cell_type": "code",
   "execution_count": 38,
   "id": "333f1570",
   "metadata": {},
   "outputs": [
    {
     "name": "stdout",
     "output_type": "stream",
     "text": [
      "[(0, 0, 0), 1]\n",
      "[(0, 0, 1), 2]\n",
      "[(0, 0, 2), 3]\n",
      "[(0, 1, 0), 4]\n",
      "[(0, 1, 1), 5]\n",
      "[(0, 1, 2), 6]\n",
      "[(1, 0, 0), 1]\n",
      "[(1, 0, 1), 2]\n",
      "[(1, 0, 2), 3]\n",
      "[(1, 1, 0), 4]\n",
      "[(1, 1, 1), 5]\n",
      "[(1, 1, 2), 6]\n"
     ]
    }
   ],
   "source": [
    "for index, value in np.ndenumerate(three_dimensional_array):\n",
    "    print(index, value)"
   ]
  },
  {
   "cell_type": "code",
   "execution_count": null,
   "id": "d3366e64",
   "metadata": {},
   "outputs": [],
   "source": []
  },
  {
   "cell_type": "markdown",
   "id": "615cff99",
   "metadata": {},
   "source": [
    "### Copy and View in NumPy"
   ]
  },
  {
   "cell_type": "code",
   "execution_count": 39,
   "id": "80a5dfed",
   "metadata": {},
   "outputs": [],
   "source": [
    "import pandas as pd\n",
    "import numpy as np"
   ]
  },
  {
   "cell_type": "code",
   "execution_count": 40,
   "id": "4b7d0e4f",
   "metadata": {},
   "outputs": [],
   "source": [
    "arr = np.array(object = [1,2,3,4,5])\n",
    "copy_arr = arr.copy()"
   ]
  },
  {
   "cell_type": "code",
   "execution_count": 42,
   "id": "63caf42a",
   "metadata": {},
   "outputs": [
    {
     "name": "stdout",
     "output_type": "stream",
     "text": [
      "Original Array [1 2 3 4 5]\n",
      "Copied Array [1 2 3 4 5]\n"
     ]
    }
   ],
   "source": [
    "print(f\"Original Array {arr}\")\n",
    "print(f\"Copied Array {copy_arr}\")"
   ]
  },
  {
   "cell_type": "code",
   "execution_count": 44,
   "id": "49c853ea",
   "metadata": {},
   "outputs": [
    {
     "name": "stdout",
     "output_type": "stream",
     "text": [
      "Original Array [9 8 7 6 5]\n",
      "View of Array [9 8 7 6 5]\n"
     ]
    }
   ],
   "source": [
    "data = np.array([9,8,7,6,5])\n",
    "view_data = data.view()\n",
    "\n",
    "print(f\"Original Array {data}\")\n",
    "print(f\"View of Array {view_data}\")"
   ]
  },
  {
   "cell_type": "code",
   "execution_count": 45,
   "id": "3f272e07",
   "metadata": {},
   "outputs": [
    {
     "name": "stdout",
     "output_type": "stream",
     "text": [
      "Original Array [1 2 3 4 5]\n",
      "Copied Array [100   2   3   4   5]\n",
      "Original Array [100   8   7   6   5]\n",
      "View of Array [100   8   7   6   5]\n"
     ]
    }
   ],
   "source": [
    "\"\"\"\n",
    "1. A copy of a NumPy array creates a completely new array that is independent of the original array. \n",
    "Changes made to the copy do not affect the original array, and vice versa.\n",
    "\n",
    "2. A view (also called a shallow copy) is a new array object that refers to the same data as the original array. \n",
    "Changes made to the view will affect the original array, and vice versa, because they share the same underlying data.\n",
    "\"\"\"\n",
    "\n",
    "copy_arr[0] = 100\n",
    "print(f\"Original Array {arr}\")\n",
    "print(f\"Copied Array {copy_arr}\")\n",
    "\n",
    "view_data[0] = 100\n",
    "print(f\"Original Array {data}\")\n",
    "print(f\"View of Array {view_data}\")"
   ]
  },
  {
   "cell_type": "code",
   "execution_count": null,
   "id": "638aefa5",
   "metadata": {},
   "outputs": [],
   "source": []
  }
 ],
 "metadata": {
  "kernelspec": {
   "display_name": "Python 3 (ipykernel)",
   "language": "python",
   "name": "python3"
  },
  "language_info": {
   "codemirror_mode": {
    "name": "ipython",
    "version": 3
   },
   "file_extension": ".py",
   "mimetype": "text/x-python",
   "name": "python",
   "nbconvert_exporter": "python",
   "pygments_lexer": "ipython3",
   "version": "3.9.13"
  }
 },
 "nbformat": 4,
 "nbformat_minor": 5
}
