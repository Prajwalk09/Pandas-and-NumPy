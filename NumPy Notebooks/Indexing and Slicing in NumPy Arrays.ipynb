{
 "cells": [
  {
   "cell_type": "markdown",
   "id": "54514ba9",
   "metadata": {},
   "source": [
    "### Broadcasting in NumPy"
   ]
  },
  {
   "cell_type": "code",
   "execution_count": 1,
   "id": "aead5322",
   "metadata": {},
   "outputs": [],
   "source": [
    "import pandas as pd\n",
    "import numpy as np"
   ]
  },
  {
   "cell_type": "code",
   "execution_count": 2,
   "id": "c1aef69e",
   "metadata": {},
   "outputs": [],
   "source": [
    "first = np.array(object = [1,2,3,4])\n",
    "second = np.array(object = [1,2,3])"
   ]
  },
  {
   "cell_type": "code",
   "execution_count": 3,
   "id": "18fd1483",
   "metadata": {},
   "outputs": [
    {
     "ename": "ValueError",
     "evalue": "operands could not be broadcast together with shapes (4,) (3,) ",
     "output_type": "error",
     "traceback": [
      "\u001b[1;31m---------------------------------------------------------------------------\u001b[0m",
      "\u001b[1;31mValueError\u001b[0m                                Traceback (most recent call last)",
      "\u001b[1;32m~\\AppData\\Local\\Temp\\ipykernel_12376\\2248515934.py\u001b[0m in \u001b[0;36m<module>\u001b[1;34m\u001b[0m\n\u001b[1;32m----> 1\u001b[1;33m \u001b[0mprint\u001b[0m\u001b[1;33m(\u001b[0m\u001b[0mfirst\u001b[0m \u001b[1;33m+\u001b[0m \u001b[0msecond\u001b[0m\u001b[1;33m)\u001b[0m\u001b[1;33m\u001b[0m\u001b[1;33m\u001b[0m\u001b[0m\n\u001b[0m",
      "\u001b[1;31mValueError\u001b[0m: operands could not be broadcast together with shapes (4,) (3,) "
     ]
    }
   ],
   "source": [
    "print(first + second)"
   ]
  },
  {
   "cell_type": "code",
   "execution_count": 6,
   "id": "1d1ab218",
   "metadata": {},
   "outputs": [
    {
     "data": {
      "text/plain": [
       "array([[[2, 4, 6]]])"
      ]
     },
     "execution_count": 6,
     "metadata": {},
     "output_type": "execute_result"
    }
   ],
   "source": [
    "\"\"\"The above error is related to Broadcasting and it is due to the difference in the shapes \n",
    "of the arrays.\n",
    "When performing operations on two arrays, NumPy compares their shapes element-wise, starting from the last dimension \n",
    "and working backwards. \n",
    "\n",
    "It applies these broadcasting rules to make the arrays compatible for element-wise operations:\n",
    "Rule 1: If the dimensions of the two arrays are not the same, NumPy will \"stretch\" (broadcast) the smaller array \n",
    "along the larger array’s dimension.\n",
    "\n",
    "If one of the arrays has a shape of size 1 in a particular dimension, it will be repeated along that dimension \n",
    "to match the other array.\n",
    "Rule 2: If the arrays still don’t have the same shape after applying Rule 1, NumPy will raise an error, \n",
    "indicating that they are not compatible.\n",
    "\"\"\"\n",
    "np.array([1,2,3]) + np.array([1,2,3], ndmin = 3)"
   ]
  },
  {
   "cell_type": "code",
   "execution_count": null,
   "id": "19006568",
   "metadata": {},
   "outputs": [],
   "source": []
  },
  {
   "cell_type": "markdown",
   "id": "f864d447",
   "metadata": {},
   "source": [
    "### Indexing and Slicing in NumPy Arrays"
   ]
  },
  {
   "cell_type": "code",
   "execution_count": 11,
   "id": "460063ac",
   "metadata": {},
   "outputs": [
    {
     "data": {
      "text/plain": [
       "array([[[1, 2],\n",
       "        [1, 2]],\n",
       "\n",
       "       [[1, 2],\n",
       "        [1, 2]]])"
      ]
     },
     "execution_count": 11,
     "metadata": {},
     "output_type": "execute_result"
    }
   ],
   "source": [
    "np.array([\n",
    "        [[1,2], [1,2]], #Block 0\n",
    "        [[1,2],[1,2]]   #Block 1\n",
    "         ])"
   ]
  },
  {
   "cell_type": "code",
   "execution_count": 18,
   "id": "13dff2a1",
   "metadata": {},
   "outputs": [
    {
     "name": "stdout",
     "output_type": "stream",
     "text": [
      "0 1 2 3 4 5 \n",
      "\n",
      "5 4 3 2 1 0 "
     ]
    }
   ],
   "source": [
    "arr = [0,1,2,3,4,5]\n",
    "for index in range(6):\n",
    "    print(arr[index], end = \" \")\n",
    "print(\"\\n\")\n",
    "for index in range(-1, -7, -1):\n",
    "    print(arr[index], end = \" \")"
   ]
  },
  {
   "cell_type": "code",
   "execution_count": 30,
   "id": "92e01861",
   "metadata": {},
   "outputs": [
    {
     "name": "stdout",
     "output_type": "stream",
     "text": [
      "8\n",
      "8\n",
      "5\n"
     ]
    }
   ],
   "source": [
    "two_dimensional_array = np.array(object = [[9,8,7], [4,5,6]])\n",
    "print(two_dimensional_array[0,1])\n",
    "print(two_dimensional_array[0][1]) # This and the above syntax, both are identical in working\n",
    "print(two_dimensional_array[1,1])"
   ]
  },
  {
   "cell_type": "code",
   "execution_count": 35,
   "id": "faf3dad4",
   "metadata": {},
   "outputs": [
    {
     "name": "stdout",
     "output_type": "stream",
     "text": [
      "9 8 7 4 5 6 "
     ]
    }
   ],
   "source": [
    "for row_index in range(two_dimensional_array.shape[0]):\n",
    "    for column_index in range(two_dimensional_array.shape[1]):\n",
    "        print(two_dimensional_array[row_index, column_index], end = \" \")"
   ]
  },
  {
   "cell_type": "code",
   "execution_count": 47,
   "id": "a8b639af",
   "metadata": {},
   "outputs": [],
   "source": [
    "three_dimensional_array = [\n",
    "    [\n",
    "        [1,2], #Block 0 Row 0\n",
    "        [1,2]  #Block 0 Row 1\n",
    "    ], \n",
    "\n",
    "    [\n",
    "        [1,2], #Block 1 Row 0\n",
    "        [1,2]  #Block 1 Row 1\n",
    "    ]\n",
    "]\n",
    "three_dimensional_array = np.array(three_dimensional_array)"
   ]
  },
  {
   "cell_type": "code",
   "execution_count": 54,
   "id": "9dc1ba45",
   "metadata": {},
   "outputs": [
    {
     "name": "stdout",
     "output_type": "stream",
     "text": [
      "2\n",
      "1\n"
     ]
    }
   ],
   "source": [
    "print(three_dimensional_array[0,1,1]) # Access the element from the 0th block, 1st row, 1st column\n",
    "print(three_dimensional_array[1,0,0]) # Access the element from the 1st block, 0th row, 0th column"
   ]
  },
  {
   "cell_type": "code",
   "execution_count": 56,
   "id": "cfdd3952",
   "metadata": {},
   "outputs": [
    {
     "data": {
      "text/plain": [
       "[0, 1, 2, 3, 4, 5, 6, 7, 8, 9]"
      ]
     },
     "execution_count": 56,
     "metadata": {},
     "output_type": "execute_result"
    }
   ],
   "source": [
    "one_dimensional_array = [x for x in range(10)]\n",
    "one_dimensional_array"
   ]
  },
  {
   "cell_type": "code",
   "execution_count": 64,
   "id": "90a192d0",
   "metadata": {},
   "outputs": [
    {
     "data": {
      "text/plain": [
       "[0, 3, 6, 9]"
      ]
     },
     "execution_count": 64,
     "metadata": {},
     "output_type": "execute_result"
    }
   ],
   "source": [
    "one_dimensional_array[0:9]\n",
    "one_dimensional_array[2:5]\n",
    "one_dimensional_array[0:10:2]\n",
    "one_dimensional_array[:10]\n",
    "one_dimensional_array[2:]\n",
    "one_dimensional_array[:]\n",
    "one_dimensional_array[::3]"
   ]
  },
  {
   "cell_type": "code",
   "execution_count": 65,
   "id": "ed978c55",
   "metadata": {},
   "outputs": [
    {
     "data": {
      "text/plain": [
       "array([[9, 8, 7],\n",
       "       [4, 5, 6]])"
      ]
     },
     "execution_count": 65,
     "metadata": {},
     "output_type": "execute_result"
    }
   ],
   "source": [
    "two_dimensional_array"
   ]
  },
  {
   "cell_type": "code",
   "execution_count": 73,
   "id": "a6e55cad",
   "metadata": {},
   "outputs": [
    {
     "data": {
      "text/plain": [
       "array([[9, 8],\n",
       "       [4, 5]])"
      ]
     },
     "execution_count": 73,
     "metadata": {},
     "output_type": "execute_result"
    }
   ],
   "source": [
    "two_dimensional_array[0:2]\n",
    "two_dimensional_array[0:1, :]\n",
    "two_dimensional_array[0:1, 1:]\n",
    "two_dimensional_array[:, 2:]\n",
    "two_dimensional_array[:, 0:]\n",
    "two_dimensional_array[0:, :2]"
   ]
  },
  {
   "cell_type": "code",
   "execution_count": null,
   "id": "da6c0c33",
   "metadata": {},
   "outputs": [],
   "source": []
  }
 ],
 "metadata": {
  "kernelspec": {
   "display_name": "Python 3 (ipykernel)",
   "language": "python",
   "name": "python3"
  },
  "language_info": {
   "codemirror_mode": {
    "name": "ipython",
    "version": 3
   },
   "file_extension": ".py",
   "mimetype": "text/x-python",
   "name": "python",
   "nbconvert_exporter": "python",
   "pygments_lexer": "ipython3",
   "version": "3.9.13"
  }
 },
 "nbformat": 4,
 "nbformat_minor": 5
}
