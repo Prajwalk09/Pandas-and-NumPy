{
 "cells": [
  {
   "cell_type": "markdown",
   "id": "95620637",
   "metadata": {},
   "source": [
    "### Arithmetic Functions on NumPy Arrays"
   ]
  },
  {
   "cell_type": "code",
   "execution_count": 1,
   "id": "c18ea26d",
   "metadata": {},
   "outputs": [],
   "source": [
    "import pandas as pd\n",
    "import numpy as np\n",
    "import faker"
   ]
  },
  {
   "cell_type": "code",
   "execution_count": 2,
   "id": "406c31b2",
   "metadata": {},
   "outputs": [],
   "source": [
    "fake = faker.Faker()"
   ]
  },
  {
   "cell_type": "code",
   "execution_count": 3,
   "id": "1323f20c",
   "metadata": {},
   "outputs": [],
   "source": [
    "def create_fake_data():\n",
    "    return {\n",
    "        \"Name\" : fake.name(),\n",
    "        \"Age\" : np.random.randint(low = 18, high = 60, size = 1)\n",
    "    }"
   ]
  },
  {
   "cell_type": "code",
   "execution_count": 4,
   "id": "6e2db61f",
   "metadata": {},
   "outputs": [
    {
     "data": {
      "text/plain": [
       "{'Name': 'Gregory Aguilar', 'Age': array([25])}"
      ]
     },
     "execution_count": 4,
     "metadata": {},
     "output_type": "execute_result"
    }
   ],
   "source": [
    "create_fake_data()"
   ]
  },
  {
   "cell_type": "code",
   "execution_count": 5,
   "id": "29b9437c",
   "metadata": {},
   "outputs": [
    {
     "data": {
      "text/html": [
       "<div>\n",
       "<style scoped>\n",
       "    .dataframe tbody tr th:only-of-type {\n",
       "        vertical-align: middle;\n",
       "    }\n",
       "\n",
       "    .dataframe tbody tr th {\n",
       "        vertical-align: top;\n",
       "    }\n",
       "\n",
       "    .dataframe thead th {\n",
       "        text-align: right;\n",
       "    }\n",
       "</style>\n",
       "<table border=\"1\" class=\"dataframe\">\n",
       "  <thead>\n",
       "    <tr style=\"text-align: right;\">\n",
       "      <th></th>\n",
       "      <th>Name</th>\n",
       "      <th>Age</th>\n",
       "    </tr>\n",
       "  </thead>\n",
       "  <tbody>\n",
       "    <tr>\n",
       "      <th>0</th>\n",
       "      <td>Tracey Ward</td>\n",
       "      <td>27</td>\n",
       "    </tr>\n",
       "    <tr>\n",
       "      <th>1</th>\n",
       "      <td>Michael Johnson</td>\n",
       "      <td>42</td>\n",
       "    </tr>\n",
       "    <tr>\n",
       "      <th>2</th>\n",
       "      <td>Paul Webb</td>\n",
       "      <td>32</td>\n",
       "    </tr>\n",
       "    <tr>\n",
       "      <th>3</th>\n",
       "      <td>Richard Guerrero</td>\n",
       "      <td>32</td>\n",
       "    </tr>\n",
       "    <tr>\n",
       "      <th>4</th>\n",
       "      <td>Alicia Johnson</td>\n",
       "      <td>33</td>\n",
       "    </tr>\n",
       "  </tbody>\n",
       "</table>\n",
       "</div>"
      ],
      "text/plain": [
       "               Name Age\n",
       "0       Tracey Ward  27\n",
       "1   Michael Johnson  42\n",
       "2         Paul Webb  32\n",
       "3  Richard Guerrero  32\n",
       "4    Alicia Johnson  33"
      ]
     },
     "execution_count": 5,
     "metadata": {},
     "output_type": "execute_result"
    }
   ],
   "source": [
    "data = pd.DataFrame(columns = ['Name', 'Age'])\n",
    "for _ in range(10):\n",
    "    new_data = pd.DataFrame(create_fake_data())\n",
    "    data = pd.concat([data, new_data], ignore_index = True)\n",
    "data.head()"
   ]
  },
  {
   "cell_type": "code",
   "execution_count": 6,
   "id": "33cfd5a5",
   "metadata": {},
   "outputs": [
    {
     "data": {
      "text/html": [
       "<div>\n",
       "<style scoped>\n",
       "    .dataframe tbody tr th:only-of-type {\n",
       "        vertical-align: middle;\n",
       "    }\n",
       "\n",
       "    .dataframe tbody tr th {\n",
       "        vertical-align: top;\n",
       "    }\n",
       "\n",
       "    .dataframe thead th {\n",
       "        text-align: right;\n",
       "    }\n",
       "</style>\n",
       "<table border=\"1\" class=\"dataframe\">\n",
       "  <thead>\n",
       "    <tr style=\"text-align: right;\">\n",
       "      <th></th>\n",
       "      <th>Name</th>\n",
       "      <th>Age</th>\n",
       "    </tr>\n",
       "  </thead>\n",
       "  <tbody>\n",
       "    <tr>\n",
       "      <th>0</th>\n",
       "      <td>Tracey Ward</td>\n",
       "      <td>27</td>\n",
       "    </tr>\n",
       "    <tr>\n",
       "      <th>1</th>\n",
       "      <td>Michael Johnson</td>\n",
       "      <td>42</td>\n",
       "    </tr>\n",
       "    <tr>\n",
       "      <th>2</th>\n",
       "      <td>Paul Webb</td>\n",
       "      <td>32</td>\n",
       "    </tr>\n",
       "    <tr>\n",
       "      <th>3</th>\n",
       "      <td>Richard Guerrero</td>\n",
       "      <td>32</td>\n",
       "    </tr>\n",
       "    <tr>\n",
       "      <th>4</th>\n",
       "      <td>Alicia Johnson</td>\n",
       "      <td>33</td>\n",
       "    </tr>\n",
       "    <tr>\n",
       "      <th>5</th>\n",
       "      <td>Nathaniel Hill</td>\n",
       "      <td>22</td>\n",
       "    </tr>\n",
       "    <tr>\n",
       "      <th>6</th>\n",
       "      <td>Jason Barr</td>\n",
       "      <td>41</td>\n",
       "    </tr>\n",
       "    <tr>\n",
       "      <th>7</th>\n",
       "      <td>Lisa Jordan</td>\n",
       "      <td>24</td>\n",
       "    </tr>\n",
       "    <tr>\n",
       "      <th>8</th>\n",
       "      <td>Mary Garcia</td>\n",
       "      <td>18</td>\n",
       "    </tr>\n",
       "    <tr>\n",
       "      <th>9</th>\n",
       "      <td>Joseph Howard</td>\n",
       "      <td>56</td>\n",
       "    </tr>\n",
       "  </tbody>\n",
       "</table>\n",
       "</div>"
      ],
      "text/plain": [
       "               Name Age\n",
       "0       Tracey Ward  27\n",
       "1   Michael Johnson  42\n",
       "2         Paul Webb  32\n",
       "3  Richard Guerrero  32\n",
       "4    Alicia Johnson  33\n",
       "5    Nathaniel Hill  22\n",
       "6        Jason Barr  41\n",
       "7       Lisa Jordan  24\n",
       "8       Mary Garcia  18\n",
       "9     Joseph Howard  56"
      ]
     },
     "execution_count": 6,
     "metadata": {},
     "output_type": "execute_result"
    }
   ],
   "source": [
    "data"
   ]
  },
  {
   "cell_type": "code",
   "execution_count": 7,
   "id": "e1f1d594",
   "metadata": {},
   "outputs": [
    {
     "name": "stdout",
     "output_type": "stream",
     "text": [
      "Maximum age is 56\n",
      "Minimum age is 18\n",
      "Index where the maximum value of age is present is 9\n",
      "Index where the minimum value of age is present is 8\n",
      "Square roots of [4, 9, 16, 25, 36] are [2. 3. 4. 5. 6.]\n",
      "Sine of angles are [ 0  1  0 -1]\n",
      "Cosine of angles are [ 1  0 -1  0]\n",
      "The cumulative sum of ages are \n",
      "0     27\n",
      "1     69\n",
      "2    101\n",
      "3    133\n",
      "4    166\n",
      "5    188\n",
      "6    229\n",
      "7    253\n",
      "8    271\n",
      "9    327\n",
      "Name: Age, dtype: object\n"
     ]
    }
   ],
   "source": [
    "print(f\"Maximum age is {np.max(data['Age'])}\")\n",
    "print(f\"Minimum age is {np.min(data['Age'])}\")\n",
    "print(f\"Index where the maximum value of age is present is {np.argmax(data['Age'])}\")\n",
    "print(f\"Index where the minimum value of age is present is {np.argmin(data['Age'])}\")\n",
    "print(f\"Square roots of {[4, 9, 16, 25, 36]} are {np.sqrt([4, 9, 16, 25, 36])}\")\n",
    "angles = np.array([0, np.pi/2, np.pi, 3*np.pi/2])\n",
    "print(f\"Sine of angles are {np.sin(angles).astype(int)}\")\n",
    "print(f\"Cosine of angles are {np.cos(angles).astype(int)}\")\n",
    "print(f\"The cumulative sum of ages are \\n{np.cumsum(data['Age'])}\")"
   ]
  },
  {
   "cell_type": "code",
   "execution_count": 8,
   "id": "69a8160e",
   "metadata": {
    "scrolled": true
   },
   "outputs": [
    {
     "name": "stdout",
     "output_type": "stream",
     "text": [
      "[[1, 2, 10, 9], [5, 6, -1, 4]]\n",
      "[10  6]\n",
      "[ 5  6 10  9]\n",
      "[2 1]\n",
      "[1 1 0 0]\n"
     ]
    }
   ],
   "source": [
    "two_dimensional_array = [[1,2,10,9], [5,6,-1,4]]\n",
    "print(two_dimensional_array)\n",
    "print(np.max(two_dimensional_array, axis = 1)) #Prints the maximum element from each row\n",
    "print(np.max(two_dimensional_array, axis = 0)) #Prints the maximum element from each column\n",
    "print(np.argmax(two_dimensional_array, axis = 1)) #Prints the index of the maximum element from each row\n",
    "print(np.argmax(two_dimensional_array, axis = 0)) #Prints the index of the maximum element from each column"
   ]
  },
  {
   "cell_type": "code",
   "execution_count": 9,
   "id": "a1fda7d8",
   "metadata": {},
   "outputs": [
    {
     "data": {
      "text/plain": [
       "'Tracey Ward'"
      ]
     },
     "execution_count": 9,
     "metadata": {},
     "output_type": "execute_result"
    }
   ],
   "source": [
    "np.max(data['Name'])"
   ]
  },
  {
   "cell_type": "code",
   "execution_count": 10,
   "id": "fbd27b83",
   "metadata": {},
   "outputs": [
    {
     "data": {
      "text/plain": [
       "array([   2,    4,    8,   16,   32,   64,  128,  256,  512, 1024])"
      ]
     },
     "execution_count": 10,
     "metadata": {},
     "output_type": "execute_result"
    }
   ],
   "source": [
    "arr = np.array([2 for _ in range(10)])\n",
    "np.cumproduct(arr)\n",
    "np.cumprod(arr)"
   ]
  },
  {
   "cell_type": "code",
   "execution_count": null,
   "id": "6495738b",
   "metadata": {},
   "outputs": [],
   "source": []
  }
 ],
 "metadata": {
  "kernelspec": {
   "display_name": "Python 3 (ipykernel)",
   "language": "python",
   "name": "python3"
  },
  "language_info": {
   "codemirror_mode": {
    "name": "ipython",
    "version": 3
   },
   "file_extension": ".py",
   "mimetype": "text/x-python",
   "name": "python",
   "nbconvert_exporter": "python",
   "pygments_lexer": "ipython3",
   "version": "3.9.13"
  }
 },
 "nbformat": 4,
 "nbformat_minor": 5
}
