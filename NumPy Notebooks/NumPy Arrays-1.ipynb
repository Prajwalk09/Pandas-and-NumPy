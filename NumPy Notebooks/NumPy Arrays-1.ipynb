{
 "cells": [
  {
   "cell_type": "markdown",
   "id": "2a7bc309",
   "metadata": {},
   "source": [
    "### Creating Arrays in NumPy"
   ]
  },
  {
   "cell_type": "code",
   "execution_count": 1,
   "id": "7abbb2bd",
   "metadata": {},
   "outputs": [],
   "source": [
    "import pandas as pd\n",
    "import numpy as np"
   ]
  },
  {
   "cell_type": "code",
   "execution_count": 2,
   "id": "1699ab00",
   "metadata": {},
   "outputs": [
    {
     "name": "stdout",
     "output_type": "stream",
     "text": [
      "[1 2 3] <class 'numpy.ndarray'>\n"
     ]
    }
   ],
   "source": [
    "arr = np.array([1,2,3])\n",
    "print(arr, type(arr))"
   ]
  },
  {
   "cell_type": "code",
   "execution_count": 3,
   "id": "b4eee5b4",
   "metadata": {},
   "outputs": [
    {
     "name": "stdout",
     "output_type": "stream",
     "text": [
      "Enter a number: 1\n",
      "Enter a number: 2\n",
      "Enter a number: 3\n",
      "Enter a number: 4\n",
      "[1, 2, 3, 4] <class 'list'>\n",
      "[1 2 3 4]\n"
     ]
    }
   ],
   "source": [
    "lst = []\n",
    "for _ in range(4):\n",
    "    lst.append(int(input(\"Enter a number: \")))\n",
    "\n",
    "print(lst, type(lst))\n",
    "print(np.array(lst))"
   ]
  },
  {
   "cell_type": "code",
   "execution_count": 4,
   "id": "4a9b753f",
   "metadata": {},
   "outputs": [
    {
     "name": "stdout",
     "output_type": "stream",
     "text": [
      "1\n"
     ]
    }
   ],
   "source": [
    "\"\"\"Use ndim to check the dimensions of the NumPy Array\"\"\"\n",
    "print(arr.ndim)"
   ]
  },
  {
   "cell_type": "code",
   "execution_count": 5,
   "id": "bbf66f8a",
   "metadata": {},
   "outputs": [
    {
     "name": "stdout",
     "output_type": "stream",
     "text": [
      "[[1 2 3 4]\n",
      " [1 2 3 4]]\n",
      "2\n"
     ]
    }
   ],
   "source": [
    "two_dimensional_array = np.array([[1,2,3,4], [1,2,3,4]])\n",
    "print(two_dimensional_array)\n",
    "print(two_dimensional_array.ndim)"
   ]
  },
  {
   "cell_type": "code",
   "execution_count": 6,
   "id": "431b5462",
   "metadata": {},
   "outputs": [
    {
     "name": "stdout",
     "output_type": "stream",
     "text": [
      "[[[1 2 3 4]\n",
      "  [1 2 3 4]\n",
      "  [1 2 3 4]]]\n",
      "3\n"
     ]
    }
   ],
   "source": [
    "three_dimensional_array = np.array([[[1,2,3,4], [1,2,3,4], [1,2,3,4]]])\n",
    "print(three_dimensional_array)\n",
    "print(three_dimensional_array.ndim)"
   ]
  },
  {
   "cell_type": "code",
   "execution_count": 7,
   "id": "5aca9b12",
   "metadata": {},
   "outputs": [
    {
     "data": {
      "text/plain": [
       "array([[[[[[[[[[ 1,  2,  3,  4,  5,  6,  7,  8,  9, 10]]]]]]]]]])"
      ]
     },
     "execution_count": 7,
     "metadata": {},
     "output_type": "execute_result"
    }
   ],
   "source": [
    "\"\"\"Specifying the dimensions of the NumPy Array\"\"\"\n",
    "np.array([1,2,3,4,5,6,7,8,9,10], ndmin = 10)"
   ]
  },
  {
   "cell_type": "code",
   "execution_count": null,
   "id": "09310d7c",
   "metadata": {},
   "outputs": [],
   "source": []
  },
  {
   "cell_type": "markdown",
   "id": "002697d4",
   "metadata": {},
   "source": [
    "### Special NumPy Arrays"
   ]
  },
  {
   "cell_type": "code",
   "execution_count": 8,
   "id": "5ef8f790",
   "metadata": {},
   "outputs": [
    {
     "data": {
      "text/plain": [
       "array([[0., 0., 0., 0.],\n",
       "       [0., 0., 0., 0.]])"
      ]
     },
     "execution_count": 8,
     "metadata": {},
     "output_type": "execute_result"
    }
   ],
   "source": [
    "zeroes = np.zeros(shape = (2,4))\n",
    "zeroes"
   ]
  },
  {
   "cell_type": "code",
   "execution_count": 9,
   "id": "a28acc3a",
   "metadata": {},
   "outputs": [
    {
     "data": {
      "text/plain": [
       "array([[[0, 0, 0, 0],\n",
       "        [0, 0, 0, 0],\n",
       "        [0, 0, 0, 0]]])"
      ]
     },
     "execution_count": 9,
     "metadata": {},
     "output_type": "execute_result"
    }
   ],
   "source": [
    "\"\"\"Use zeroes_like to obtain an array with a shape similar \n",
    "to an existing array.\"\"\"\n",
    "np.zeros_like(a = three_dimensional_array)"
   ]
  },
  {
   "cell_type": "code",
   "execution_count": 10,
   "id": "55077f4b",
   "metadata": {},
   "outputs": [
    {
     "data": {
      "text/plain": [
       "array([[1., 1., 1., 1.],\n",
       "       [1., 1., 1., 1.]])"
      ]
     },
     "execution_count": 10,
     "metadata": {},
     "output_type": "execute_result"
    }
   ],
   "source": [
    "\"\"\"Array filled with 1's\"\"\"\n",
    "ones = np.ones(shape = (2,4))\n",
    "ones"
   ]
  },
  {
   "cell_type": "code",
   "execution_count": 11,
   "id": "c9f489a7",
   "metadata": {},
   "outputs": [
    {
     "data": {
      "text/plain": [
       "array([[[1, 1, 1, 1],\n",
       "        [1, 1, 1, 1],\n",
       "        [1, 1, 1, 1]]])"
      ]
     },
     "execution_count": 11,
     "metadata": {},
     "output_type": "execute_result"
    }
   ],
   "source": [
    "np.ones_like(a = three_dimensional_array)"
   ]
  },
  {
   "cell_type": "code",
   "execution_count": 12,
   "id": "ae004470",
   "metadata": {},
   "outputs": [
    {
     "data": {
      "text/plain": [
       "array([1.40733086e-311, 7.56601164e-307, 4.34777768e-321, 3.79442416e-321])"
      ]
     },
     "execution_count": 12,
     "metadata": {},
     "output_type": "execute_result"
    }
   ],
   "source": [
    "\"\"\"Empty Array\"\"\"\n",
    "np.empty(shape = (4))"
   ]
  },
  {
   "cell_type": "code",
   "execution_count": 13,
   "id": "3f990522",
   "metadata": {},
   "outputs": [
    {
     "data": {
      "text/plain": [
       "array([[[4128860, 6029375, 3801155, 5570652],\n",
       "        [6619251, 7536754, 7340124, 6357106],\n",
       "        [7798890, 4259932, 7340144, 6357060]]])"
      ]
     },
     "execution_count": 13,
     "metadata": {},
     "output_type": "execute_result"
    }
   ],
   "source": [
    "np.empty_like(prototype = three_dimensional_array)"
   ]
  },
  {
   "cell_type": "code",
   "execution_count": 14,
   "id": "e3f4797c",
   "metadata": {},
   "outputs": [
    {
     "data": {
      "text/plain": [
       "array([ 0,  1,  2,  3,  4,  5,  6,  7,  8,  9, 10, 11, 12, 13, 14, 15, 16,\n",
       "       17, 18, 19])"
      ]
     },
     "execution_count": 14,
     "metadata": {},
     "output_type": "execute_result"
    }
   ],
   "source": [
    "\"\"\"Range Array\"\"\"\n",
    "np.arange(start = 10, stop = 15)\n",
    "np.arange(start = 10, stop = 20, step = 2)\n",
    "np.arange(stop = 20)"
   ]
  },
  {
   "cell_type": "code",
   "execution_count": 15,
   "id": "f058f91e",
   "metadata": {},
   "outputs": [
    {
     "data": {
      "text/plain": [
       "array([[1., 0., 0., 0., 0.],\n",
       "       [0., 1., 0., 0., 0.],\n",
       "       [0., 0., 1., 0., 0.],\n",
       "       [0., 0., 0., 1., 0.],\n",
       "       [0., 0., 0., 0., 1.]])"
      ]
     },
     "execution_count": 15,
     "metadata": {},
     "output_type": "execute_result"
    }
   ],
   "source": [
    "\"\"\"Creating identity Matrix\"\"\"\n",
    "np.identity(n  = 4)\n",
    "np.identity(n = 5)"
   ]
  },
  {
   "cell_type": "code",
   "execution_count": 16,
   "id": "b1522d68",
   "metadata": {},
   "outputs": [
    {
     "data": {
      "text/plain": [
       "array([[1., 0., 0., 0., 0., 0.],\n",
       "       [0., 1., 0., 0., 0., 0.],\n",
       "       [0., 0., 1., 0., 0., 0.],\n",
       "       [0., 0., 0., 1., 0., 0.]])"
      ]
     },
     "execution_count": 16,
     "metadata": {},
     "output_type": "execute_result"
    }
   ],
   "source": [
    "np.eye(N = 4)\n",
    "np.eye(N = 4, M = 6)"
   ]
  },
  {
   "cell_type": "code",
   "execution_count": 17,
   "id": "014f01dc",
   "metadata": {},
   "outputs": [
    {
     "data": {
      "text/plain": [
       "array([ 0.,  5., 10., 15., 20.])"
      ]
     },
     "execution_count": 17,
     "metadata": {},
     "output_type": "execute_result"
    }
   ],
   "source": [
    "\"\"\"Creating Arrays having evenly spaced numbers over a specified interval.\"\"\"\n",
    "np.linspace(start = 1, stop = 10, num = 20) # Default value of num is 50, which specifies the number of equally spaced intervals\n",
    "np.linspace(start = 0, stop = 20, num = 5)"
   ]
  },
  {
   "cell_type": "code",
   "execution_count": 18,
   "id": "2a2ecad0",
   "metadata": {},
   "outputs": [
    {
     "name": "stdout",
     "output_type": "stream",
     "text": [
      "0.9900447547247256\n",
      "\n",
      "-0.45843933718783964\n",
      "[ 0.41789691  0.61031329 -1.0741859   0.81021236 -0.21717226]\n",
      "\n",
      "0.19890157127319996\n",
      "[0.95877295 0.58090603 0.31948023 0.5922294  0.68735366 0.63697436\n",
      " 0.41185565 0.06698018 0.82370387 0.27509109]\n",
      "\n",
      "[3 4 6 5]\n",
      "[910 973 358 291 120 484 402  40 552 174]\n"
     ]
    }
   ],
   "source": [
    "\"\"\"Arrays having Random Numbers\"\"\"\n",
    "print(np.random.rand()) # Returns a number between 0 and 1\n",
    "print(\"\")\n",
    "print(np.random.randn()) # Return a sample (or samples) from the \"standard normal\" distribution. May include megative values \n",
    "print(np.random.randn(5)) # as well\n",
    "print(\"\")\n",
    "print(np.random.ranf()) # Used for Random Sampling. Interval is 0 to 1 where 0 is inclusive and 1 is exclusive.\n",
    "print(np.random.ranf(10))\n",
    "print(\"\")\n",
    "print(np.random.randint(low = 0, high = 10, size = 4)) # Returns Random numbers from the specified range\n",
    "print(np.random.randint(low = 1, high = 1000, size = 10))"
   ]
  },
  {
   "cell_type": "code",
   "execution_count": null,
   "id": "1abb17ce",
   "metadata": {},
   "outputs": [],
   "source": []
  }
 ],
 "metadata": {
  "kernelspec": {
   "display_name": "Python 3 (ipykernel)",
   "language": "python",
   "name": "python3"
  },
  "language_info": {
   "codemirror_mode": {
    "name": "ipython",
    "version": 3
   },
   "file_extension": ".py",
   "mimetype": "text/x-python",
   "name": "python",
   "nbconvert_exporter": "python",
   "pygments_lexer": "ipython3",
   "version": "3.9.13"
  }
 },
 "nbformat": 4,
 "nbformat_minor": 5
}
