{
 "cells": [
  {
   "cell_type": "markdown",
   "id": "4848406f",
   "metadata": {},
   "source": [
    "### Joining and Splitting Arrays in NumPy"
   ]
  },
  {
   "cell_type": "code",
   "execution_count": 1,
   "id": "c9b33e7c",
   "metadata": {},
   "outputs": [],
   "source": [
    "import pandas as pd\n",
    "import numpy as np"
   ]
  },
  {
   "cell_type": "code",
   "execution_count": 2,
   "id": "76d1e89b",
   "metadata": {},
   "outputs": [
    {
     "data": {
      "text/plain": [
       "array([1, 2, 3, 4, 1, 2, 3, 4])"
      ]
     },
     "execution_count": 2,
     "metadata": {},
     "output_type": "execute_result"
    }
   ],
   "source": [
    "\"\"\"Joining means putting the contents of 2 or more arrays in a single array\"\"\"\n",
    "first = np.array([1,2,3,4])\n",
    "second = np.array([1,2,3,4])\n",
    "\n",
    "final_array = np.concatenate([first, second])\n",
    "final_array"
   ]
  },
  {
   "cell_type": "code",
   "execution_count": 3,
   "id": "8a1b2065",
   "metadata": {},
   "outputs": [
    {
     "data": {
      "text/plain": [
       "(array([[1, 2, 3, 4],\n",
       "        [5, 6, 7, 8],\n",
       "        [1, 2, 3, 4],\n",
       "        [5, 6, 7, 8]]),\n",
       " array([[1, 2, 3, 4, 1, 2, 3, 4],\n",
       "        [5, 6, 7, 8, 5, 6, 7, 8]]))"
      ]
     },
     "execution_count": 3,
     "metadata": {},
     "output_type": "execute_result"
    }
   ],
   "source": [
    "\"\"\"Joining Two Dimensional Arrays\"\"\"\n",
    "first = np.array([\n",
    "    [1,2,3,4], \n",
    "    [5,6,7,8]\n",
    "])\n",
    "\n",
    "second = np.array([\n",
    "    [1,2,3,4], \n",
    "    [5,6,7,8]\n",
    "])\n",
    "\n",
    "row_join = np.concatenate([first, second], axis = 0)\n",
    "column_join = np.concatenate([first, second], axis = 1)\n",
    "\"\"\"axis = 0, join row wise\n",
    "   axis = 1 join column wise\"\"\"\n",
    "\n",
    "row_join, column_join"
   ]
  },
  {
   "cell_type": "code",
   "execution_count": 4,
   "id": "33ebc2ca",
   "metadata": {},
   "outputs": [
    {
     "name": "stdout",
     "output_type": "stream",
     "text": [
      "[[[1 2 3 4]\n",
      "  [5 6 7 8]]\n",
      "\n",
      " [[1 2 3 4]\n",
      "  [5 6 7 8]]]\n",
      "\n",
      "[[[1 2 3 4]\n",
      "  [1 2 3 4]]\n",
      "\n",
      " [[5 6 7 8]\n",
      "  [5 6 7 8]]]\n",
      "\n",
      "[[[1 1]\n",
      "  [2 2]\n",
      "  [3 3]\n",
      "  [4 4]]\n",
      "\n",
      " [[5 5]\n",
      "  [6 6]\n",
      "  [7 7]\n",
      "  [8 8]]]\n"
     ]
    }
   ],
   "source": [
    "first = np.array([\n",
    "    [1,2,3,4], \n",
    "    [5,6,7,8]\n",
    "])\n",
    "\n",
    "second = np.array([\n",
    "    [1,2,3,4], \n",
    "    [5,6,7,8]\n",
    "])\n",
    "\n",
    "print(np.stack([first, second], axis = 0)) #Stack arrays vertically\n",
    "print(\"\")\n",
    "print(np.stack([first, second], axis = 1)) #Stack arrays horizontally\n",
    "print(\"\")\n",
    "print(np.stack([first, second], axis = 2)) #Stack arrays element-wise, creating pairs of elements from each array."
   ]
  },
  {
   "cell_type": "code",
   "execution_count": 5,
   "id": "f38d65cc",
   "metadata": {},
   "outputs": [
    {
     "name": "stdout",
     "output_type": "stream",
     "text": [
      "[[[1 2]\n",
      "  [5 6]]\n",
      "\n",
      " [[3 4]\n",
      "  [7 8]]]\n"
     ]
    }
   ],
   "source": [
    "a = np.array([[1, 2], \n",
    "              [3, 4]])\n",
    "\n",
    "b = np.array([[5, 6], \n",
    "              [7, 8]])\n",
    "stacked_axis_1 = np.stack((a, b), axis=1)\n",
    "\"\"\"\n",
    "[[[1 2]  [5 6]]   # Row 0: a's first row is paired with b's first row\n",
    " [[3 4]  [7 8]]]   # Row 1: a's second row is paired with b's second row\n",
    "\"\"\"\n",
    "print(stacked_axis_1)"
   ]
  },
  {
   "cell_type": "code",
   "execution_count": 6,
   "id": "5933ca07",
   "metadata": {},
   "outputs": [
    {
     "data": {
      "text/plain": [
       "array([[[1, 1],\n",
       "        [2, 2],\n",
       "        [3, 3],\n",
       "        [4, 4]],\n",
       "\n",
       "       [[5, 5],\n",
       "        [6, 6],\n",
       "        [7, 7],\n",
       "        [8, 8]]])"
      ]
     },
     "execution_count": 6,
     "metadata": {},
     "output_type": "execute_result"
    }
   ],
   "source": [
    "np.vstack([first, second]) # Vertical Stacking\n",
    "np.hstack([first, second]) # Horizontal Stacking\n",
    "np.dstack([first, second]) # Element-Wise Stacking"
   ]
  },
  {
   "cell_type": "code",
   "execution_count": null,
   "id": "48f4c1cb",
   "metadata": {},
   "outputs": [],
   "source": []
  },
  {
   "cell_type": "markdown",
   "id": "7aea990c",
   "metadata": {},
   "source": [
    "### Splitting Arrays in NumPy"
   ]
  },
  {
   "cell_type": "code",
   "execution_count": 7,
   "id": "a4e7288f",
   "metadata": {},
   "outputs": [],
   "source": [
    "import pandas as pd\n",
    "import numpy as np"
   ]
  },
  {
   "cell_type": "code",
   "execution_count": 8,
   "id": "15fcb364",
   "metadata": {},
   "outputs": [
    {
     "data": {
      "text/plain": [
       "array([0, 1, 2, 3, 4, 5])"
      ]
     },
     "execution_count": 8,
     "metadata": {},
     "output_type": "execute_result"
    }
   ],
   "source": [
    "first = np.array(object = [x for x in range(6)])\n",
    "first"
   ]
  },
  {
   "cell_type": "code",
   "execution_count": 9,
   "id": "ab7de1fc",
   "metadata": {},
   "outputs": [
    {
     "data": {
      "text/plain": [
       "[array([0, 1]), array([2, 3]), array([4, 5])]"
      ]
     },
     "execution_count": 9,
     "metadata": {},
     "output_type": "execute_result"
    }
   ],
   "source": [
    "np.split(ary = first, indices_or_sections = 3, axis = 0)"
   ]
  },
  {
   "cell_type": "code",
   "execution_count": 10,
   "id": "bc77f244",
   "metadata": {},
   "outputs": [
    {
     "data": {
      "text/plain": [
       "list"
      ]
     },
     "execution_count": 10,
     "metadata": {},
     "output_type": "execute_result"
    }
   ],
   "source": [
    "type(np.split(ary = first, indices_or_sections = 3, axis = 0))"
   ]
  },
  {
   "cell_type": "code",
   "execution_count": 11,
   "id": "c794eee6",
   "metadata": {},
   "outputs": [
    {
     "data": {
      "text/plain": [
       "array([0, 1])"
      ]
     },
     "execution_count": 11,
     "metadata": {},
     "output_type": "execute_result"
    }
   ],
   "source": [
    "np.split(ary = first, indices_or_sections = 3, axis = 0)[0]"
   ]
  },
  {
   "cell_type": "code",
   "execution_count": 12,
   "id": "4e1ba2f8",
   "metadata": {},
   "outputs": [
    {
     "data": {
      "text/plain": [
       "array([2, 3])"
      ]
     },
     "execution_count": 12,
     "metadata": {},
     "output_type": "execute_result"
    }
   ],
   "source": [
    "np.split(ary = first, indices_or_sections = 3, axis = 0)[1]"
   ]
  },
  {
   "cell_type": "code",
   "execution_count": 13,
   "id": "8bf9b379",
   "metadata": {},
   "outputs": [
    {
     "data": {
      "text/plain": [
       "array([4, 5])"
      ]
     },
     "execution_count": 13,
     "metadata": {},
     "output_type": "execute_result"
    }
   ],
   "source": [
    "np.split(ary = first, indices_or_sections = 3, axis = 0)[2]"
   ]
  },
  {
   "cell_type": "code",
   "execution_count": 14,
   "id": "119c3977",
   "metadata": {},
   "outputs": [
    {
     "data": {
      "text/plain": [
       "1"
      ]
     },
     "execution_count": 14,
     "metadata": {},
     "output_type": "execute_result"
    }
   ],
   "source": [
    "np.split(ary = first, indices_or_sections = 3, axis = 0)[0][1]"
   ]
  },
  {
   "cell_type": "code",
   "execution_count": 15,
   "id": "e405cb6e",
   "metadata": {},
   "outputs": [
    {
     "data": {
      "text/plain": [
       "array([[ 0,  1,  2,  3,  4,  5],\n",
       "       [ 6,  7,  8,  9, 10, 11],\n",
       "       [12, 13, 14, 15, 16, 17]])"
      ]
     },
     "execution_count": 15,
     "metadata": {},
     "output_type": "execute_result"
    }
   ],
   "source": [
    "two_dimensional_array = np.array([\n",
    "    [x for x in range(6)], \n",
    "    [x for x in range(6,12)], \n",
    "    [x for x in range(12, 18)], \n",
    "])\n",
    "two_dimensional_array"
   ]
  },
  {
   "cell_type": "code",
   "execution_count": 16,
   "id": "6a5a0c32",
   "metadata": {},
   "outputs": [
    {
     "data": {
      "text/plain": [
       "[array([[0, 1, 2, 3, 4, 5]]),\n",
       " array([[ 6,  7,  8,  9, 10, 11]]),\n",
       " array([[12, 13, 14, 15, 16, 17]])]"
      ]
     },
     "execution_count": 16,
     "metadata": {},
     "output_type": "execute_result"
    }
   ],
   "source": [
    "np.split(ary = two_dimensional_array, indices_or_sections = 3, axis = 0) #Splitting along the rows"
   ]
  },
  {
   "cell_type": "code",
   "execution_count": 17,
   "id": "55e7f0d2",
   "metadata": {},
   "outputs": [
    {
     "data": {
      "text/plain": [
       "[array([[ 0,  1],\n",
       "        [ 6,  7],\n",
       "        [12, 13]]),\n",
       " array([[ 2,  3],\n",
       "        [ 8,  9],\n",
       "        [14, 15]]),\n",
       " array([[ 4,  5],\n",
       "        [10, 11],\n",
       "        [16, 17]])]"
      ]
     },
     "execution_count": 17,
     "metadata": {},
     "output_type": "execute_result"
    }
   ],
   "source": [
    "np.split(ary = two_dimensional_array, indices_or_sections = 3, axis = 1) #Splitting along the columns"
   ]
  },
  {
   "cell_type": "code",
   "execution_count": null,
   "id": "6042d5dc",
   "metadata": {},
   "outputs": [],
   "source": []
  }
 ],
 "metadata": {
  "kernelspec": {
   "display_name": "Python 3 (ipykernel)",
   "language": "python",
   "name": "python3"
  },
  "language_info": {
   "codemirror_mode": {
    "name": "ipython",
    "version": 3
   },
   "file_extension": ".py",
   "mimetype": "text/x-python",
   "name": "python",
   "nbconvert_exporter": "python",
   "pygments_lexer": "ipython3",
   "version": "3.9.13"
  }
 },
 "nbformat": 4,
 "nbformat_minor": 5
}
