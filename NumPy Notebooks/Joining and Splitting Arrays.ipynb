{
 "cells": [
  {
   "cell_type": "markdown",
   "id": "cf5e4d53",
   "metadata": {},
   "source": [
    "### Joining and Splitting Arrays in NumPy"
   ]
  },
  {
   "cell_type": "code",
   "execution_count": 1,
   "id": "177a0f54",
   "metadata": {},
   "outputs": [],
   "source": [
    "import pandas as pd\n",
    "import numpy as np"
   ]
  },
  {
   "cell_type": "code",
   "execution_count": 2,
   "id": "a30c1b67",
   "metadata": {},
   "outputs": [
    {
     "data": {
      "text/plain": [
       "array([1, 2, 3, 4, 1, 2, 3, 4])"
      ]
     },
     "execution_count": 2,
     "metadata": {},
     "output_type": "execute_result"
    }
   ],
   "source": [
    "\"\"\"Joining means putting the contents of 2 or more arrays in a single array\"\"\"\n",
    "first = np.array([1,2,3,4])\n",
    "second = np.array([1,2,3,4])\n",
    "\n",
    "final_array = np.concatenate([first, second])\n",
    "final_array"
   ]
  },
  {
   "cell_type": "code",
   "execution_count": 3,
   "id": "481226ec",
   "metadata": {},
   "outputs": [
    {
     "data": {
      "text/plain": [
       "(array([[1, 2, 3, 4],\n",
       "        [5, 6, 7, 8],\n",
       "        [1, 2, 3, 4],\n",
       "        [5, 6, 7, 8]]),\n",
       " array([[1, 2, 3, 4, 1, 2, 3, 4],\n",
       "        [5, 6, 7, 8, 5, 6, 7, 8]]))"
      ]
     },
     "execution_count": 3,
     "metadata": {},
     "output_type": "execute_result"
    }
   ],
   "source": [
    "\"\"\"Joining Two Dimensional Arrays\"\"\"\n",
    "first = np.array([\n",
    "    [1,2,3,4], \n",
    "    [5,6,7,8]\n",
    "])\n",
    "\n",
    "second = np.array([\n",
    "    [1,2,3,4], \n",
    "    [5,6,7,8]\n",
    "])\n",
    "\n",
    "row_join = np.concatenate([first, second], axis = 0)\n",
    "column_join = np.concatenate([first, second], axis = 1)\n",
    "\"\"\"axis = 0, join row wise\n",
    "   axis = 1 join column wise\"\"\"\n",
    "\n",
    "row_join, column_join"
   ]
  },
  {
   "cell_type": "code",
   "execution_count": 4,
   "id": "55cabce6",
   "metadata": {},
   "outputs": [
    {
     "name": "stdout",
     "output_type": "stream",
     "text": [
      "[[[1 2 3 4]\n",
      "  [5 6 7 8]]\n",
      "\n",
      " [[1 2 3 4]\n",
      "  [5 6 7 8]]]\n",
      "\n",
      "[[[1 2 3 4]\n",
      "  [1 2 3 4]]\n",
      "\n",
      " [[5 6 7 8]\n",
      "  [5 6 7 8]]]\n",
      "\n",
      "[[[1 1]\n",
      "  [2 2]\n",
      "  [3 3]\n",
      "  [4 4]]\n",
      "\n",
      " [[5 5]\n",
      "  [6 6]\n",
      "  [7 7]\n",
      "  [8 8]]]\n"
     ]
    }
   ],
   "source": [
    "first = np.array([\n",
    "    [1,2,3,4], \n",
    "    [5,6,7,8]\n",
    "])\n",
    "\n",
    "second = np.array([\n",
    "    [1,2,3,4], \n",
    "    [5,6,7,8]\n",
    "])\n",
    "\n",
    "print(np.stack([first, second], axis = 0)) #Stack arrays vertically\n",
    "print(\"\")\n",
    "print(np.stack([first, second], axis = 1)) #Stack arrays horizontally\n",
    "print(\"\")\n",
    "print(np.stack([first, second], axis = 2)) #Stack arrays element-wise, creating pairs of elements from each array."
   ]
  },
  {
   "cell_type": "code",
   "execution_count": 5,
   "id": "1e01b8db",
   "metadata": {},
   "outputs": [
    {
     "name": "stdout",
     "output_type": "stream",
     "text": [
      "[[[1 2]\n",
      "  [5 6]]\n",
      "\n",
      " [[3 4]\n",
      "  [7 8]]]\n"
     ]
    }
   ],
   "source": [
    "a = np.array([[1, 2], \n",
    "              [3, 4]])\n",
    "\n",
    "b = np.array([[5, 6], \n",
    "              [7, 8]])\n",
    "stacked_axis_1 = np.stack((a, b), axis=1)\n",
    "\"\"\"\n",
    "[[[1 2]  [5 6]]   # Row 0: a's first row is paired with b's first row\n",
    " [[3 4]  [7 8]]]   # Row 1: a's second row is paired with b's second row\n",
    "\"\"\"\n",
    "print(stacked_axis_1)"
   ]
  },
  {
   "cell_type": "code",
   "execution_count": 6,
   "id": "0711654c",
   "metadata": {},
   "outputs": [
    {
     "data": {
      "text/plain": [
       "array([[[1, 1],\n",
       "        [2, 2],\n",
       "        [3, 3],\n",
       "        [4, 4]],\n",
       "\n",
       "       [[5, 5],\n",
       "        [6, 6],\n",
       "        [7, 7],\n",
       "        [8, 8]]])"
      ]
     },
     "execution_count": 6,
     "metadata": {},
     "output_type": "execute_result"
    }
   ],
   "source": [
    "np.vstack([first, second]) # Vertical Stacking\n",
    "np.hstack([first, second]) # Horizontal Stacking\n",
    "np.dstack([first, second]) # Element-Wise Stacking"
   ]
  },
  {
   "cell_type": "code",
   "execution_count": null,
   "id": "d69763a9",
   "metadata": {},
   "outputs": [],
   "source": []
  },
  {
   "cell_type": "markdown",
   "id": "9e0d0ceb",
   "metadata": {},
   "source": [
    "### Splitting Arrays in NumPy"
   ]
  },
  {
   "cell_type": "code",
   "execution_count": 7,
   "id": "c2a3be91",
   "metadata": {},
   "outputs": [],
   "source": [
    "import pandas as pd\n",
    "import numpy as np"
   ]
  },
  {
   "cell_type": "code",
   "execution_count": 13,
   "id": "720b5f3b",
   "metadata": {},
   "outputs": [
    {
     "data": {
      "text/plain": [
       "array([0, 1, 2, 3, 4, 5])"
      ]
     },
     "execution_count": 13,
     "metadata": {},
     "output_type": "execute_result"
    }
   ],
   "source": [
    "first = np.array(object = [x for x in range(6)])\n",
    "first"
   ]
  },
  {
   "cell_type": "code",
   "execution_count": 14,
   "id": "54d22cfd",
   "metadata": {},
   "outputs": [
    {
     "data": {
      "text/plain": [
       "[array([0, 1]), array([2, 3]), array([4, 5])]"
      ]
     },
     "execution_count": 14,
     "metadata": {},
     "output_type": "execute_result"
    }
   ],
   "source": [
    "np.split(ary = first, indices_or_sections = 3, axis = 0)"
   ]
  },
  {
   "cell_type": "code",
   "execution_count": 15,
   "id": "9f9e5958",
   "metadata": {},
   "outputs": [
    {
     "data": {
      "text/plain": [
       "list"
      ]
     },
     "execution_count": 15,
     "metadata": {},
     "output_type": "execute_result"
    }
   ],
   "source": [
    "type(np.split(ary = first, indices_or_sections = 3, axis = 0))"
   ]
  },
  {
   "cell_type": "code",
   "execution_count": 16,
   "id": "618c3f48",
   "metadata": {},
   "outputs": [
    {
     "data": {
      "text/plain": [
       "array([0, 1])"
      ]
     },
     "execution_count": 16,
     "metadata": {},
     "output_type": "execute_result"
    }
   ],
   "source": [
    "np.split(ary = first, indices_or_sections = 3, axis = 0)[0]"
   ]
  },
  {
   "cell_type": "code",
   "execution_count": 17,
   "id": "1d5ee70b",
   "metadata": {},
   "outputs": [
    {
     "data": {
      "text/plain": [
       "array([2, 3])"
      ]
     },
     "execution_count": 17,
     "metadata": {},
     "output_type": "execute_result"
    }
   ],
   "source": [
    "np.split(ary = first, indices_or_sections = 3, axis = 0)[1]"
   ]
  },
  {
   "cell_type": "code",
   "execution_count": 18,
   "id": "56bea5f0",
   "metadata": {},
   "outputs": [
    {
     "data": {
      "text/plain": [
       "array([4, 5])"
      ]
     },
     "execution_count": 18,
     "metadata": {},
     "output_type": "execute_result"
    }
   ],
   "source": [
    "np.split(ary = first, indices_or_sections = 3, axis = 0)[2]"
   ]
  },
  {
   "cell_type": "code",
   "execution_count": 20,
   "id": "72489b83",
   "metadata": {},
   "outputs": [
    {
     "data": {
      "text/plain": [
       "1"
      ]
     },
     "execution_count": 20,
     "metadata": {},
     "output_type": "execute_result"
    }
   ],
   "source": [
    "np.split(ary = first, indices_or_sections = 3, axis = 0)[0][1]"
   ]
  },
  {
   "cell_type": "code",
   "execution_count": 28,
   "id": "9de4d262",
   "metadata": {},
   "outputs": [
    {
     "data": {
      "text/plain": [
       "array([[ 0,  1,  2,  3,  4,  5],\n",
       "       [ 6,  7,  8,  9, 10, 11],\n",
       "       [12, 13, 14, 15, 16, 17]])"
      ]
     },
     "execution_count": 28,
     "metadata": {},
     "output_type": "execute_result"
    }
   ],
   "source": [
    "two_dimensional_array = np.array([\n",
    "    [x for x in range(6)], \n",
    "    [x for x in range(6,12)], \n",
    "    [x for x in range(12, 18)], \n",
    "])\n",
    "two_dimensional_array"
   ]
  },
  {
   "cell_type": "code",
   "execution_count": 29,
   "id": "a1cf3072",
   "metadata": {},
   "outputs": [
    {
     "data": {
      "text/plain": [
       "[array([[0, 1, 2, 3, 4, 5]]),\n",
       " array([[ 6,  7,  8,  9, 10, 11]]),\n",
       " array([[12, 13, 14, 15, 16, 17]])]"
      ]
     },
     "execution_count": 29,
     "metadata": {},
     "output_type": "execute_result"
    }
   ],
   "source": [
    "np.split(ary = two_dimensional_array, indices_or_sections = 3, axis = 0) #Splitting along the rows"
   ]
  },
  {
   "cell_type": "code",
   "execution_count": 30,
   "id": "fb9d982d",
   "metadata": {},
   "outputs": [
    {
     "data": {
      "text/plain": [
       "[array([[ 0,  1],\n",
       "        [ 6,  7],\n",
       "        [12, 13]]),\n",
       " array([[ 2,  3],\n",
       "        [ 8,  9],\n",
       "        [14, 15]]),\n",
       " array([[ 4,  5],\n",
       "        [10, 11],\n",
       "        [16, 17]])]"
      ]
     },
     "execution_count": 30,
     "metadata": {},
     "output_type": "execute_result"
    }
   ],
   "source": [
    "np.split(ary = two_dimensional_array, indices_or_sections = 3, axis = 1) #Splitting along the columns"
   ]
  },
  {
   "cell_type": "code",
   "execution_count": null,
   "id": "df86f11c",
   "metadata": {},
   "outputs": [],
   "source": []
  }
 ],
 "metadata": {
  "kernelspec": {
   "display_name": "Python 3 (ipykernel)",
   "language": "python",
   "name": "python3"
  },
  "language_info": {
   "codemirror_mode": {
    "name": "ipython",
    "version": 3
   },
   "file_extension": ".py",
   "mimetype": "text/x-python",
   "name": "python",
   "nbconvert_exporter": "python",
   "pygments_lexer": "ipython3",
   "version": "3.9.13"
  }
 },
 "nbformat": 4,
 "nbformat_minor": 5
}
