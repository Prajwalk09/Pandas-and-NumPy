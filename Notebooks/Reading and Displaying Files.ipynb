{
 "cells": [
  {
   "cell_type": "markdown",
   "id": "5b5ce328",
   "metadata": {},
   "source": [
    "## <font color = 'blue' > Pandas for Data Analysis </font>"
   ]
  },
  {
   "cell_type": "code",
   "execution_count": 1,
   "id": "b1e15905",
   "metadata": {},
   "outputs": [],
   "source": [
    "import pandas as pd"
   ]
  },
  {
   "cell_type": "markdown",
   "id": "a7985daf",
   "metadata": {},
   "source": [
    "### Reading CSV Files "
   ]
  },
  {
   "cell_type": "code",
   "execution_count": 2,
   "id": "6cb5fff6",
   "metadata": {},
   "outputs": [
    {
     "data": {
      "text/html": [
       "<div>\n",
       "<style scoped>\n",
       "    .dataframe tbody tr th:only-of-type {\n",
       "        vertical-align: middle;\n",
       "    }\n",
       "\n",
       "    .dataframe tbody tr th {\n",
       "        vertical-align: top;\n",
       "    }\n",
       "\n",
       "    .dataframe thead th {\n",
       "        text-align: right;\n",
       "    }\n",
       "</style>\n",
       "<table border=\"1\" class=\"dataframe\">\n",
       "  <thead>\n",
       "    <tr style=\"text-align: right;\">\n",
       "      <th></th>\n",
       "      <th>Country</th>\n",
       "      <th>Region</th>\n",
       "    </tr>\n",
       "  </thead>\n",
       "  <tbody>\n",
       "    <tr>\n",
       "      <th>0</th>\n",
       "      <td>Afghanistan</td>\n",
       "      <td>ASIA (EX. NEAR EAST)</td>\n",
       "    </tr>\n",
       "    <tr>\n",
       "      <th>1</th>\n",
       "      <td>Albania</td>\n",
       "      <td>EASTERN EUROPE</td>\n",
       "    </tr>\n",
       "    <tr>\n",
       "      <th>2</th>\n",
       "      <td>Algeria</td>\n",
       "      <td>NORTHERN AFRICA</td>\n",
       "    </tr>\n",
       "    <tr>\n",
       "      <th>3</th>\n",
       "      <td>American Samoa</td>\n",
       "      <td>OCEANIA</td>\n",
       "    </tr>\n",
       "    <tr>\n",
       "      <th>4</th>\n",
       "      <td>Andorra</td>\n",
       "      <td>WESTERN EUROPE</td>\n",
       "    </tr>\n",
       "  </tbody>\n",
       "</table>\n",
       "</div>"
      ],
      "text/plain": [
       "           Country                               Region\n",
       "0     Afghanistan         ASIA (EX. NEAR EAST)         \n",
       "1         Albania   EASTERN EUROPE                     \n",
       "2         Algeria   NORTHERN AFRICA                    \n",
       "3  American Samoa   OCEANIA                            \n",
       "4         Andorra   WESTERN EUROPE                     "
      ]
     },
     "execution_count": 2,
     "metadata": {},
     "output_type": "execute_result"
    }
   ],
   "source": [
    "data_csv = pd.read_csv(r\"C:\\Users\\prajw\\Downloads\\Python Files\\Jupyter File\\countries of the world.csv\")\n",
    "data_csv.head()"
   ]
  },
  {
   "cell_type": "markdown",
   "id": "d6d3b8f0",
   "metadata": {},
   "source": [
    "### Reading Excel Files"
   ]
  },
  {
   "cell_type": "code",
   "execution_count": 3,
   "id": "c57414f8",
   "metadata": {},
   "outputs": [
    {
     "data": {
      "text/html": [
       "<div>\n",
       "<style scoped>\n",
       "    .dataframe tbody tr th:only-of-type {\n",
       "        vertical-align: middle;\n",
       "    }\n",
       "\n",
       "    .dataframe tbody tr th {\n",
       "        vertical-align: top;\n",
       "    }\n",
       "\n",
       "    .dataframe thead th {\n",
       "        text-align: right;\n",
       "    }\n",
       "</style>\n",
       "<table border=\"1\" class=\"dataframe\">\n",
       "  <thead>\n",
       "    <tr style=\"text-align: right;\">\n",
       "      <th></th>\n",
       "      <th>Rank</th>\n",
       "      <th>CCA3</th>\n",
       "      <th>Country</th>\n",
       "      <th>Capital</th>\n",
       "    </tr>\n",
       "  </thead>\n",
       "  <tbody>\n",
       "    <tr>\n",
       "      <th>0</th>\n",
       "      <td>36</td>\n",
       "      <td>AFG</td>\n",
       "      <td>Afghanistan</td>\n",
       "      <td>Kabul</td>\n",
       "    </tr>\n",
       "    <tr>\n",
       "      <th>1</th>\n",
       "      <td>138</td>\n",
       "      <td>ALB</td>\n",
       "      <td>Albania</td>\n",
       "      <td>Tirana</td>\n",
       "    </tr>\n",
       "    <tr>\n",
       "      <th>2</th>\n",
       "      <td>34</td>\n",
       "      <td>DZA</td>\n",
       "      <td>Algeria</td>\n",
       "      <td>Algiers</td>\n",
       "    </tr>\n",
       "    <tr>\n",
       "      <th>3</th>\n",
       "      <td>213</td>\n",
       "      <td>ASM</td>\n",
       "      <td>American Samoa</td>\n",
       "      <td>Pago Pago</td>\n",
       "    </tr>\n",
       "    <tr>\n",
       "      <th>4</th>\n",
       "      <td>203</td>\n",
       "      <td>AND</td>\n",
       "      <td>Andorra</td>\n",
       "      <td>Andorra la Vella</td>\n",
       "    </tr>\n",
       "  </tbody>\n",
       "</table>\n",
       "</div>"
      ],
      "text/plain": [
       "   Rank CCA3         Country           Capital\n",
       "0    36  AFG     Afghanistan             Kabul\n",
       "1   138  ALB         Albania            Tirana\n",
       "2    34  DZA         Algeria           Algiers\n",
       "3   213  ASM  American Samoa         Pago Pago\n",
       "4   203  AND         Andorra  Andorra la Vella"
      ]
     },
     "execution_count": 3,
     "metadata": {},
     "output_type": "execute_result"
    }
   ],
   "source": [
    "data_xlsx = pd.read_excel(r\"C:\\Users\\prajw\\Downloads\\Python Files\\Jupyter File\\world_population_excel_workbook.xlsx\", sheet_name = 'Sheet1')\n",
    "data_xlsx.head()"
   ]
  },
  {
   "cell_type": "markdown",
   "id": "006e8cb9",
   "metadata": {},
   "source": [
    "### Reading txt Files"
   ]
  },
  {
   "cell_type": "code",
   "execution_count": 4,
   "id": "cc4c87bb",
   "metadata": {},
   "outputs": [
    {
     "data": {
      "text/html": [
       "<div>\n",
       "<style scoped>\n",
       "    .dataframe tbody tr th:only-of-type {\n",
       "        vertical-align: middle;\n",
       "    }\n",
       "\n",
       "    .dataframe tbody tr th {\n",
       "        vertical-align: top;\n",
       "    }\n",
       "\n",
       "    .dataframe thead th {\n",
       "        text-align: right;\n",
       "    }\n",
       "</style>\n",
       "<table border=\"1\" class=\"dataframe\">\n",
       "  <thead>\n",
       "    <tr style=\"text-align: right;\">\n",
       "      <th></th>\n",
       "      <th>Country</th>\n",
       "      <th>Region</th>\n",
       "    </tr>\n",
       "  </thead>\n",
       "  <tbody>\n",
       "    <tr>\n",
       "      <th>0</th>\n",
       "      <td>Afghanistan</td>\n",
       "      <td>ASIA (EX. NEAR EAST)</td>\n",
       "    </tr>\n",
       "    <tr>\n",
       "      <th>1</th>\n",
       "      <td>Albania</td>\n",
       "      <td>EASTERN EUROPE</td>\n",
       "    </tr>\n",
       "    <tr>\n",
       "      <th>2</th>\n",
       "      <td>Algeria</td>\n",
       "      <td>NORTHERN AFRICA</td>\n",
       "    </tr>\n",
       "    <tr>\n",
       "      <th>3</th>\n",
       "      <td>American Samoa</td>\n",
       "      <td>OCEANIA</td>\n",
       "    </tr>\n",
       "    <tr>\n",
       "      <th>4</th>\n",
       "      <td>Andorra</td>\n",
       "      <td>WESTERN EUROPE</td>\n",
       "    </tr>\n",
       "  </tbody>\n",
       "</table>\n",
       "</div>"
      ],
      "text/plain": [
       "           Country                               Region\n",
       "0     Afghanistan         ASIA (EX. NEAR EAST)         \n",
       "1         Albania   EASTERN EUROPE                     \n",
       "2         Algeria   NORTHERN AFRICA                    \n",
       "3  American Samoa   OCEANIA                            \n",
       "4         Andorra   WESTERN EUROPE                     "
      ]
     },
     "execution_count": 4,
     "metadata": {},
     "output_type": "execute_result"
    }
   ],
   "source": [
    "# Using read_csv to read text files\n",
    "# data_text = pd.read_csv(r\"C:\\Users\\prajw\\Downloads\\Python Files\\Jupyter File\\countries of the world.txt\", sep = \"\\t\")\n",
    "# data_text.head()\n",
    "\n",
    "# Using read_table to read text files\n",
    "data_text = pd.read_table(r\"C:\\Users\\prajw\\Downloads\\Python Files\\Jupyter File\\countries of the world.txt\")\n",
    "data_text.head()"
   ]
  },
  {
   "cell_type": "markdown",
   "id": "1a742703",
   "metadata": {},
   "source": [
    "### Reading JSON Files"
   ]
  },
  {
   "cell_type": "code",
   "execution_count": 5,
   "id": "47124e6e",
   "metadata": {},
   "outputs": [
    {
     "data": {
      "text/html": [
       "<div>\n",
       "<style scoped>\n",
       "    .dataframe tbody tr th:only-of-type {\n",
       "        vertical-align: middle;\n",
       "    }\n",
       "\n",
       "    .dataframe tbody tr th {\n",
       "        vertical-align: top;\n",
       "    }\n",
       "\n",
       "    .dataframe thead th {\n",
       "        text-align: right;\n",
       "    }\n",
       "</style>\n",
       "<table border=\"1\" class=\"dataframe\">\n",
       "  <thead>\n",
       "    <tr style=\"text-align: right;\">\n",
       "      <th></th>\n",
       "      <th>12 Strong</th>\n",
       "      <th>A Fantastic Woman (Una Mujer Fantástica)</th>\n",
       "      <th>All The Money In The World</th>\n",
       "      <th>Bilal: A New Breed Of Hero</th>\n",
       "      <th>Call Me By Your Name</th>\n",
       "      <th>Darkest Hour</th>\n",
       "      <th>Den Of Thieves</th>\n",
       "      <th>Ferdinand</th>\n",
       "      <th>Fifty Shades Freed</th>\n",
       "      <th>Film Stars Don'T Die In Liverpool</th>\n",
       "      <th>...</th>\n",
       "      <th>The 15:17 To Paris</th>\n",
       "      <th>The Commuter</th>\n",
       "      <th>The Disaster Artist</th>\n",
       "      <th>The Greatest Showman</th>\n",
       "      <th>The Insult (L'Insulte)</th>\n",
       "      <th>The Post</th>\n",
       "      <th>The Shape Of Water</th>\n",
       "      <th>Three Billboards Outside Ebbing, Missouri</th>\n",
       "      <th>Till The End Of The World</th>\n",
       "      <th>Winchester</th>\n",
       "    </tr>\n",
       "  </thead>\n",
       "  <tbody>\n",
       "    <tr>\n",
       "      <th>0</th>\n",
       "      <td>{'Genre': 'Action', 'Gross': '$453,173', 'IMDB...</td>\n",
       "      <td>{'popcornscore': 83, 'rating': 'R', 'tomatosco...</td>\n",
       "      <td>{'popcornscore': 71, 'rating': 'R', 'tomatosco...</td>\n",
       "      <td>{'popcornscore': 91, 'rating': 'PG13', 'tomato...</td>\n",
       "      <td>{'popcornscore': 87, 'rating': 'R', 'tomatosco...</td>\n",
       "      <td>{'popcornscore': 84, 'rating': 'PG13', 'tomato...</td>\n",
       "      <td>{'Genre': 'Action', 'Gross': '$491,898', 'IMDB...</td>\n",
       "      <td>{'popcornscore': 49, 'rating': 'PG', 'tomatosc...</td>\n",
       "      <td>{'Genre': 'Drama', 'Gross': 'unknown', 'IMDB M...</td>\n",
       "      <td>{'popcornscore': 69, 'rating': 'R', 'tomatosco...</td>\n",
       "      <td>...</td>\n",
       "      <td>{'Genre': 'Drama', 'Gross': 'unknown', 'IMDB M...</td>\n",
       "      <td>{'popcornscore': 48, 'rating': 'PG13', 'tomato...</td>\n",
       "      <td>{'popcornscore': 89, 'rating': 'R', 'tomatosco...</td>\n",
       "      <td>{'Genre': 'Biography', 'Gross': '$627,248', 'I...</td>\n",
       "      <td>{'popcornscore': 86, 'rating': 'R', 'tomatosco...</td>\n",
       "      <td>{'Genre': 'Biography', 'Gross': '$463,228', 'I...</td>\n",
       "      <td>{'Genre': 'Adventure', 'Gross': '$448,287', 'I...</td>\n",
       "      <td>{'popcornscore': 87, 'rating': 'R', 'tomatosco...</td>\n",
       "      <td>{'popcornscore': -1, 'rating': 'NR', 'tomatosc...</td>\n",
       "      <td>{'Genre': 'Biography', 'Gross': '$696,786', 'I...</td>\n",
       "    </tr>\n",
       "  </tbody>\n",
       "</table>\n",
       "<p>1 rows × 38 columns</p>\n",
       "</div>"
      ],
      "text/plain": [
       "                                           12 Strong  \\\n",
       "0  {'Genre': 'Action', 'Gross': '$453,173', 'IMDB...   \n",
       "\n",
       "            A Fantastic Woman (Una Mujer Fantástica)  \\\n",
       "0  {'popcornscore': 83, 'rating': 'R', 'tomatosco...   \n",
       "\n",
       "                          All The Money In The World  \\\n",
       "0  {'popcornscore': 71, 'rating': 'R', 'tomatosco...   \n",
       "\n",
       "                          Bilal: A New Breed Of Hero  \\\n",
       "0  {'popcornscore': 91, 'rating': 'PG13', 'tomato...   \n",
       "\n",
       "                                Call Me By Your Name  \\\n",
       "0  {'popcornscore': 87, 'rating': 'R', 'tomatosco...   \n",
       "\n",
       "                                        Darkest Hour  \\\n",
       "0  {'popcornscore': 84, 'rating': 'PG13', 'tomato...   \n",
       "\n",
       "                                      Den Of Thieves  \\\n",
       "0  {'Genre': 'Action', 'Gross': '$491,898', 'IMDB...   \n",
       "\n",
       "                                           Ferdinand  \\\n",
       "0  {'popcornscore': 49, 'rating': 'PG', 'tomatosc...   \n",
       "\n",
       "                                  Fifty Shades Freed  \\\n",
       "0  {'Genre': 'Drama', 'Gross': 'unknown', 'IMDB M...   \n",
       "\n",
       "                   Film Stars Don'T Die In Liverpool  ...  \\\n",
       "0  {'popcornscore': 69, 'rating': 'R', 'tomatosco...  ...   \n",
       "\n",
       "                                  The 15:17 To Paris  \\\n",
       "0  {'Genre': 'Drama', 'Gross': 'unknown', 'IMDB M...   \n",
       "\n",
       "                                        The Commuter  \\\n",
       "0  {'popcornscore': 48, 'rating': 'PG13', 'tomato...   \n",
       "\n",
       "                                 The Disaster Artist  \\\n",
       "0  {'popcornscore': 89, 'rating': 'R', 'tomatosco...   \n",
       "\n",
       "                                The Greatest Showman  \\\n",
       "0  {'Genre': 'Biography', 'Gross': '$627,248', 'I...   \n",
       "\n",
       "                              The Insult (L'Insulte)  \\\n",
       "0  {'popcornscore': 86, 'rating': 'R', 'tomatosco...   \n",
       "\n",
       "                                            The Post  \\\n",
       "0  {'Genre': 'Biography', 'Gross': '$463,228', 'I...   \n",
       "\n",
       "                                  The Shape Of Water  \\\n",
       "0  {'Genre': 'Adventure', 'Gross': '$448,287', 'I...   \n",
       "\n",
       "           Three Billboards Outside Ebbing, Missouri  \\\n",
       "0  {'popcornscore': 87, 'rating': 'R', 'tomatosco...   \n",
       "\n",
       "                           Till The End Of The World  \\\n",
       "0  {'popcornscore': -1, 'rating': 'NR', 'tomatosc...   \n",
       "\n",
       "                                          Winchester  \n",
       "0  {'Genre': 'Biography', 'Gross': '$696,786', 'I...  \n",
       "\n",
       "[1 rows x 38 columns]"
      ]
     },
     "execution_count": 5,
     "metadata": {},
     "output_type": "execute_result"
    }
   ],
   "source": [
    "data_json = pd.read_json(r\"C:\\Users\\prajw\\Downloads\\Python Files\\Jupyter File\\json_sample.json\")\n",
    "data_json.head()"
   ]
  },
  {
   "cell_type": "markdown",
   "id": "4ed129fb",
   "metadata": {},
   "source": [
    "### Using the info() function"
   ]
  },
  {
   "cell_type": "code",
   "execution_count": 6,
   "id": "476e6d8c",
   "metadata": {},
   "outputs": [
    {
     "name": "stdout",
     "output_type": "stream",
     "text": [
      "<class 'pandas.core.frame.DataFrame'>\n",
      "RangeIndex: 234 entries, 0 to 233\n",
      "Data columns (total 4 columns):\n",
      " #   Column   Non-Null Count  Dtype \n",
      "---  ------   --------------  ----- \n",
      " 0   Rank     234 non-null    int64 \n",
      " 1   CCA3     234 non-null    object\n",
      " 2   Country  234 non-null    object\n",
      " 3   Capital  234 non-null    object\n",
      "dtypes: int64(1), object(3)\n",
      "memory usage: 7.4+ KB\n"
     ]
    }
   ],
   "source": [
    "data_xlsx.info()"
   ]
  },
  {
   "cell_type": "markdown",
   "id": "212b82ad",
   "metadata": {},
   "source": [
    "### Accessing specific columns of a DataFrame"
   ]
  },
  {
   "cell_type": "code",
   "execution_count": 7,
   "id": "282222fb",
   "metadata": {},
   "outputs": [
    {
     "data": {
      "text/html": [
       "<div>\n",
       "<style scoped>\n",
       "    .dataframe tbody tr th:only-of-type {\n",
       "        vertical-align: middle;\n",
       "    }\n",
       "\n",
       "    .dataframe tbody tr th {\n",
       "        vertical-align: top;\n",
       "    }\n",
       "\n",
       "    .dataframe thead th {\n",
       "        text-align: right;\n",
       "    }\n",
       "</style>\n",
       "<table border=\"1\" class=\"dataframe\">\n",
       "  <thead>\n",
       "    <tr style=\"text-align: right;\">\n",
       "      <th></th>\n",
       "      <th>Rank</th>\n",
       "      <th>CCA3</th>\n",
       "    </tr>\n",
       "  </thead>\n",
       "  <tbody>\n",
       "    <tr>\n",
       "      <th>0</th>\n",
       "      <td>36</td>\n",
       "      <td>AFG</td>\n",
       "    </tr>\n",
       "    <tr>\n",
       "      <th>1</th>\n",
       "      <td>138</td>\n",
       "      <td>ALB</td>\n",
       "    </tr>\n",
       "    <tr>\n",
       "      <th>2</th>\n",
       "      <td>34</td>\n",
       "      <td>DZA</td>\n",
       "    </tr>\n",
       "    <tr>\n",
       "      <th>3</th>\n",
       "      <td>213</td>\n",
       "      <td>ASM</td>\n",
       "    </tr>\n",
       "    <tr>\n",
       "      <th>4</th>\n",
       "      <td>203</td>\n",
       "      <td>AND</td>\n",
       "    </tr>\n",
       "    <tr>\n",
       "      <th>...</th>\n",
       "      <td>...</td>\n",
       "      <td>...</td>\n",
       "    </tr>\n",
       "    <tr>\n",
       "      <th>229</th>\n",
       "      <td>226</td>\n",
       "      <td>WLF</td>\n",
       "    </tr>\n",
       "    <tr>\n",
       "      <th>230</th>\n",
       "      <td>172</td>\n",
       "      <td>ESH</td>\n",
       "    </tr>\n",
       "    <tr>\n",
       "      <th>231</th>\n",
       "      <td>46</td>\n",
       "      <td>YEM</td>\n",
       "    </tr>\n",
       "    <tr>\n",
       "      <th>232</th>\n",
       "      <td>63</td>\n",
       "      <td>ZMB</td>\n",
       "    </tr>\n",
       "    <tr>\n",
       "      <th>233</th>\n",
       "      <td>74</td>\n",
       "      <td>ZWE</td>\n",
       "    </tr>\n",
       "  </tbody>\n",
       "</table>\n",
       "<p>234 rows × 2 columns</p>\n",
       "</div>"
      ],
      "text/plain": [
       "     Rank CCA3\n",
       "0      36  AFG\n",
       "1     138  ALB\n",
       "2      34  DZA\n",
       "3     213  ASM\n",
       "4     203  AND\n",
       "..    ...  ...\n",
       "229   226  WLF\n",
       "230   172  ESH\n",
       "231    46  YEM\n",
       "232    63  ZMB\n",
       "233    74  ZWE\n",
       "\n",
       "[234 rows x 2 columns]"
      ]
     },
     "execution_count": 7,
     "metadata": {},
     "output_type": "execute_result"
    }
   ],
   "source": [
    "data_xlsx[['Rank', 'CCA3']]"
   ]
  },
  {
   "cell_type": "markdown",
   "id": "52955d2a",
   "metadata": {},
   "source": [
    "### Usage of loc and iloc functions"
   ]
  },
  {
   "cell_type": "code",
   "execution_count": 8,
   "id": "8fb13f85",
   "metadata": {},
   "outputs": [
    {
     "data": {
      "text/plain": [
       "Rank               43\n",
       "CCA3              UZB\n",
       "Country    Uzbekistan\n",
       "Capital      Tashkent\n",
       "Name: 224, dtype: object"
      ]
     },
     "execution_count": 8,
     "metadata": {},
     "output_type": "execute_result"
    }
   ],
   "source": [
    "data_xlsx.loc[224]"
   ]
  },
  {
   "cell_type": "code",
   "execution_count": 9,
   "id": "36dae589",
   "metadata": {},
   "outputs": [
    {
     "name": "stdout",
     "output_type": "stream",
     "text": [
      "<class 'pandas.core.series.Series'>\n"
     ]
    }
   ],
   "source": [
    "print(type(data_xlsx.loc[224]))"
   ]
  },
  {
   "cell_type": "code",
   "execution_count": 10,
   "id": "76e4fd06",
   "metadata": {},
   "outputs": [
    {
     "data": {
      "text/plain": [
       "Rank               43\n",
       "CCA3              UZB\n",
       "Country    Uzbekistan\n",
       "Capital      Tashkent\n",
       "Name: 224, dtype: object"
      ]
     },
     "execution_count": 10,
     "metadata": {},
     "output_type": "execute_result"
    }
   ],
   "source": [
    "data_xlsx.iloc[224]"
   ]
  },
  {
   "cell_type": "code",
   "execution_count": 11,
   "id": "744bbb2e",
   "metadata": {},
   "outputs": [
    {
     "name": "stdout",
     "output_type": "stream",
     "text": [
      "<class 'pandas.core.series.Series'>\n"
     ]
    }
   ],
   "source": [
    "print(type(data_xlsx.iloc[224]))"
   ]
  },
  {
   "cell_type": "code",
   "execution_count": null,
   "id": "3ca59330",
   "metadata": {},
   "outputs": [],
   "source": []
  }
 ],
 "metadata": {
  "kernelspec": {
   "display_name": "Python 3 (ipykernel)",
   "language": "python",
   "name": "python3"
  },
  "language_info": {
   "codemirror_mode": {
    "name": "ipython",
    "version": 3
   },
   "file_extension": ".py",
   "mimetype": "text/x-python",
   "name": "python",
   "nbconvert_exporter": "python",
   "pygments_lexer": "ipython3",
   "version": "3.9.13"
  }
 },
 "nbformat": 4,
 "nbformat_minor": 5
}
